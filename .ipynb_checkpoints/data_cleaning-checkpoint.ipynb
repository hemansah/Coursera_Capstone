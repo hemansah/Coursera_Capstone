{
 "cells": [
  {
   "cell_type": "code",
   "execution_count": 16,
   "metadata": {},
   "outputs": [],
   "source": [
    "import pandas as pd\n",
    "import numpy as np \n",
    "import seaborn as sns\n",
    "import datetime\n",
    "import calendar\n",
    "import matplotlib.pyplot  as plt\n",
    "\n",
    "pd.set_option('display.max_columns', None)"
   ]
  },
  {
   "cell_type": "markdown",
   "metadata": {},
   "source": [
    "### Reading Dataset"
   ]
  },
  {
   "cell_type": "code",
   "execution_count": 17,
   "metadata": {},
   "outputs": [],
   "source": [
    "data_before = pd.read_csv(\"Collisions.csv\")"
   ]
  },
  {
   "cell_type": "markdown",
   "metadata": {},
   "source": [
    "## Taking a glimpse of our dataset"
   ]
  },
  {
   "cell_type": "code",
   "execution_count": 18,
   "metadata": {},
   "outputs": [
    {
     "data": {
      "text/html": [
       "<div>\n",
       "<style scoped>\n",
       "    .dataframe tbody tr th:only-of-type {\n",
       "        vertical-align: middle;\n",
       "    }\n",
       "\n",
       "    .dataframe tbody tr th {\n",
       "        vertical-align: top;\n",
       "    }\n",
       "\n",
       "    .dataframe thead th {\n",
       "        text-align: right;\n",
       "    }\n",
       "</style>\n",
       "<table border=\"1\" class=\"dataframe\">\n",
       "  <thead>\n",
       "    <tr style=\"text-align: right;\">\n",
       "      <th></th>\n",
       "      <th>X</th>\n",
       "      <th>Y</th>\n",
       "      <th>OBJECTID</th>\n",
       "      <th>INCKEY</th>\n",
       "      <th>COLDETKEY</th>\n",
       "      <th>REPORTNO</th>\n",
       "      <th>STATUS</th>\n",
       "      <th>ADDRTYPE</th>\n",
       "      <th>INTKEY</th>\n",
       "      <th>LOCATION</th>\n",
       "      <th>EXCEPTRSNCODE</th>\n",
       "      <th>EXCEPTRSNDESC</th>\n",
       "      <th>SEVERITYCODE</th>\n",
       "      <th>SEVERITYDESC</th>\n",
       "      <th>COLLISIONTYPE</th>\n",
       "      <th>PERSONCOUNT</th>\n",
       "      <th>PEDCOUNT</th>\n",
       "      <th>PEDCYLCOUNT</th>\n",
       "      <th>VEHCOUNT</th>\n",
       "      <th>INJURIES</th>\n",
       "      <th>SERIOUSINJURIES</th>\n",
       "      <th>FATALITIES</th>\n",
       "      <th>INCDATE</th>\n",
       "      <th>INCDTTM</th>\n",
       "      <th>JUNCTIONTYPE</th>\n",
       "      <th>SDOT_COLCODE</th>\n",
       "      <th>SDOT_COLDESC</th>\n",
       "      <th>INATTENTIONIND</th>\n",
       "      <th>UNDERINFL</th>\n",
       "      <th>WEATHER</th>\n",
       "      <th>ROADCOND</th>\n",
       "      <th>LIGHTCOND</th>\n",
       "      <th>PEDROWNOTGRNT</th>\n",
       "      <th>SDOTCOLNUM</th>\n",
       "      <th>SPEEDING</th>\n",
       "      <th>ST_COLCODE</th>\n",
       "      <th>ST_COLDESC</th>\n",
       "      <th>SEGLANEKEY</th>\n",
       "      <th>CROSSWALKKEY</th>\n",
       "      <th>HITPARKEDCAR</th>\n",
       "    </tr>\n",
       "  </thead>\n",
       "  <tbody>\n",
       "    <tr>\n",
       "      <th>0</th>\n",
       "      <td>-122.386772</td>\n",
       "      <td>47.564720</td>\n",
       "      <td>1</td>\n",
       "      <td>326234</td>\n",
       "      <td>327734</td>\n",
       "      <td>E984735</td>\n",
       "      <td>Matched</td>\n",
       "      <td>Intersection</td>\n",
       "      <td>31893.0</td>\n",
       "      <td>CALIFORNIA AVE SW AND SW GENESEE ST</td>\n",
       "      <td></td>\n",
       "      <td>NaN</td>\n",
       "      <td>2</td>\n",
       "      <td>Injury Collision</td>\n",
       "      <td>Pedestrian</td>\n",
       "      <td>2</td>\n",
       "      <td>1</td>\n",
       "      <td>0</td>\n",
       "      <td>1</td>\n",
       "      <td>1</td>\n",
       "      <td>0</td>\n",
       "      <td>0</td>\n",
       "      <td>2019/11/20 00:00:00+00</td>\n",
       "      <td>11/20/2019 10:25:00 AM</td>\n",
       "      <td>At Intersection (intersection related)</td>\n",
       "      <td>24.0</td>\n",
       "      <td>MOTOR VEHCILE STRUCK PEDESTRIAN</td>\n",
       "      <td>NaN</td>\n",
       "      <td>N</td>\n",
       "      <td>Clear</td>\n",
       "      <td>Dry</td>\n",
       "      <td>Daylight</td>\n",
       "      <td>Y</td>\n",
       "      <td>NaN</td>\n",
       "      <td>NaN</td>\n",
       "      <td>2</td>\n",
       "      <td>Vehicle turning left hits pedestrian</td>\n",
       "      <td>0</td>\n",
       "      <td>0</td>\n",
       "      <td>N</td>\n",
       "    </tr>\n",
       "    <tr>\n",
       "      <th>1</th>\n",
       "      <td>-122.341806</td>\n",
       "      <td>47.686934</td>\n",
       "      <td>2</td>\n",
       "      <td>326246</td>\n",
       "      <td>327746</td>\n",
       "      <td>E985430</td>\n",
       "      <td>Matched</td>\n",
       "      <td>Intersection</td>\n",
       "      <td>24228.0</td>\n",
       "      <td>STONE AVE N AND N 80TH ST</td>\n",
       "      <td></td>\n",
       "      <td>NaN</td>\n",
       "      <td>2</td>\n",
       "      <td>Injury Collision</td>\n",
       "      <td>Angles</td>\n",
       "      <td>4</td>\n",
       "      <td>0</td>\n",
       "      <td>0</td>\n",
       "      <td>2</td>\n",
       "      <td>2</td>\n",
       "      <td>0</td>\n",
       "      <td>0</td>\n",
       "      <td>2019/11/18 00:00:00+00</td>\n",
       "      <td>11/18/2019 5:01:00 PM</td>\n",
       "      <td>At Intersection (intersection related)</td>\n",
       "      <td>11.0</td>\n",
       "      <td>MOTOR VEHICLE STRUCK MOTOR VEHICLE, FRONT END ...</td>\n",
       "      <td>NaN</td>\n",
       "      <td>N</td>\n",
       "      <td>Raining</td>\n",
       "      <td>Wet</td>\n",
       "      <td>Dark - Street Lights On</td>\n",
       "      <td>NaN</td>\n",
       "      <td>NaN</td>\n",
       "      <td>NaN</td>\n",
       "      <td>10</td>\n",
       "      <td>Entering at angle</td>\n",
       "      <td>0</td>\n",
       "      <td>0</td>\n",
       "      <td>N</td>\n",
       "    </tr>\n",
       "  </tbody>\n",
       "</table>\n",
       "</div>"
      ],
      "text/plain": [
       "            X          Y  OBJECTID  INCKEY  COLDETKEY REPORTNO   STATUS  \\\n",
       "0 -122.386772  47.564720         1  326234     327734  E984735  Matched   \n",
       "1 -122.341806  47.686934         2  326246     327746  E985430  Matched   \n",
       "\n",
       "       ADDRTYPE   INTKEY                             LOCATION EXCEPTRSNCODE  \\\n",
       "0  Intersection  31893.0  CALIFORNIA AVE SW AND SW GENESEE ST                 \n",
       "1  Intersection  24228.0            STONE AVE N AND N 80TH ST                 \n",
       "\n",
       "  EXCEPTRSNDESC SEVERITYCODE      SEVERITYDESC COLLISIONTYPE  PERSONCOUNT  \\\n",
       "0           NaN            2  Injury Collision    Pedestrian            2   \n",
       "1           NaN            2  Injury Collision        Angles            4   \n",
       "\n",
       "   PEDCOUNT  PEDCYLCOUNT  VEHCOUNT  INJURIES  SERIOUSINJURIES  FATALITIES  \\\n",
       "0         1            0         1         1                0           0   \n",
       "1         0            0         2         2                0           0   \n",
       "\n",
       "                  INCDATE                 INCDTTM  \\\n",
       "0  2019/11/20 00:00:00+00  11/20/2019 10:25:00 AM   \n",
       "1  2019/11/18 00:00:00+00   11/18/2019 5:01:00 PM   \n",
       "\n",
       "                             JUNCTIONTYPE  SDOT_COLCODE  \\\n",
       "0  At Intersection (intersection related)          24.0   \n",
       "1  At Intersection (intersection related)          11.0   \n",
       "\n",
       "                                        SDOT_COLDESC INATTENTIONIND UNDERINFL  \\\n",
       "0                    MOTOR VEHCILE STRUCK PEDESTRIAN            NaN         N   \n",
       "1  MOTOR VEHICLE STRUCK MOTOR VEHICLE, FRONT END ...            NaN         N   \n",
       "\n",
       "   WEATHER ROADCOND                LIGHTCOND PEDROWNOTGRNT  SDOTCOLNUM  \\\n",
       "0    Clear      Dry                 Daylight             Y         NaN   \n",
       "1  Raining      Wet  Dark - Street Lights On           NaN         NaN   \n",
       "\n",
       "  SPEEDING ST_COLCODE                            ST_COLDESC  SEGLANEKEY  \\\n",
       "0      NaN          2  Vehicle turning left hits pedestrian           0   \n",
       "1      NaN         10                     Entering at angle           0   \n",
       "\n",
       "   CROSSWALKKEY HITPARKEDCAR  \n",
       "0             0            N  \n",
       "1             0            N  "
      ]
     },
     "execution_count": 18,
     "metadata": {},
     "output_type": "execute_result"
    }
   ],
   "source": [
    "data_before.head(2)"
   ]
  },
  {
   "cell_type": "code",
   "execution_count": 19,
   "metadata": {},
   "outputs": [
    {
     "data": {
      "text/plain": [
       "(221266, 40)"
      ]
     },
     "execution_count": 19,
     "metadata": {},
     "output_type": "execute_result"
    }
   ],
   "source": [
    "data_before.shape"
   ]
  },
  {
   "cell_type": "code",
   "execution_count": 5,
   "metadata": {
    "tags": []
   },
   "outputs": [
    {
     "name": "stdout",
     "output_type": "stream",
     "text": [
      "<class 'pandas.core.frame.DataFrame'>\n",
      "RangeIndex: 221266 entries, 0 to 221265\n",
      "Data columns (total 40 columns):\n",
      " #   Column           Non-Null Count   Dtype  \n",
      "---  ------           --------------   -----  \n",
      " 0   X                213797 non-null  float64\n",
      " 1   Y                213797 non-null  float64\n",
      " 2   OBJECTID         221266 non-null  int64  \n",
      " 3   INCKEY           221266 non-null  int64  \n",
      " 4   COLDETKEY        221266 non-null  int64  \n",
      " 5   REPORTNO         221266 non-null  object \n",
      " 6   STATUS           221266 non-null  object \n",
      " 7   ADDRTYPE         217554 non-null  object \n",
      " 8   INTKEY           71823 non-null   float64\n",
      " 9   LOCATION         216680 non-null  object \n",
      " 10  EXCEPTRSNCODE    100863 non-null  object \n",
      " 11  EXCEPTRSNDESC    11775 non-null   object \n",
      " 12  SEVERITYCODE     221265 non-null  object \n",
      " 13  SEVERITYDESC     221266 non-null  object \n",
      " 14  COLLISIONTYPE    194767 non-null  object \n",
      " 15  PERSONCOUNT      221266 non-null  int64  \n",
      " 16  PEDCOUNT         221266 non-null  int64  \n",
      " 17  PEDCYLCOUNT      221266 non-null  int64  \n",
      " 18  VEHCOUNT         221266 non-null  int64  \n",
      " 19  INJURIES         221266 non-null  int64  \n",
      " 20  SERIOUSINJURIES  221266 non-null  int64  \n",
      " 21  FATALITIES       221266 non-null  int64  \n",
      " 22  INCDATE          221266 non-null  object \n",
      " 23  INCDTTM          221266 non-null  object \n",
      " 24  JUNCTIONTYPE     209299 non-null  object \n",
      " 25  SDOT_COLCODE     221265 non-null  float64\n",
      " 26  SDOT_COLDESC     221265 non-null  object \n",
      " 27  INATTENTIONIND   30188 non-null   object \n",
      " 28  UNDERINFL        194787 non-null  object \n",
      " 29  WEATHER          194578 non-null  object \n",
      " 30  ROADCOND         194658 non-null  object \n",
      " 31  LIGHTCOND        194490 non-null  object \n",
      " 32  PEDROWNOTGRNT    5188 non-null    object \n",
      " 33  SDOTCOLNUM       127205 non-null  float64\n",
      " 34  SPEEDING         9913 non-null    object \n",
      " 35  ST_COLCODE       211853 non-null  object \n",
      " 36  ST_COLDESC       194767 non-null  object \n",
      " 37  SEGLANEKEY       221266 non-null  int64  \n",
      " 38  CROSSWALKKEY     221266 non-null  int64  \n",
      " 39  HITPARKEDCAR     221266 non-null  object \n",
      "dtypes: float64(5), int64(12), object(23)\n",
      "memory usage: 67.5+ MB\n"
     ]
    }
   ],
   "source": [
    "data_before.info()"
   ]
  },
  {
   "cell_type": "markdown",
   "metadata": {},
   "source": [
    "### Considering columns that will take part in model building\n",
    "1.  ADDRTYPE\n",
    "2.  SEVERITYCODE\n",
    "3.  COLLISIONTYPE\n",
    "4.  INCDTTM\n",
    "5. JUNCTIONTYPE\n",
    "6. UNDERINFL\n",
    "7. WEATHER\n",
    "8. ROADCOND\n",
    "9. LIGHTCOND\n",
    "10. PEDROWNOTGRNT\n",
    "11. SPEEDING\n"
   ]
  },
  {
   "cell_type": "code",
   "execution_count": 20,
   "metadata": {},
   "outputs": [],
   "source": [
    "#  Making a list of columns which we will remove\n",
    "\n",
    "remove_cols = ['OBJECTID','INCKEY','COLDETKEY','HITPARKEDCAR','INTKEY','EXCEPTRSNCODE','EXCEPTRSNDESC','SEVERITYDESC','SDOTCOLNUM','ST_COLDESC','X','Y','REPORTNO','STATUS','LOCATION','SDOT_COLDESC','SDOT_COLCODE','INJURIES','SERIOUSINJURIES','FATALITIES','SEGLANEKEY','CROSSWALKKEY','INATTENTIONIND','INCDATE','ST_COLCODE','HITPARKEDCAR','PEDCOUNT','PERSONCOUNT','PEDCYLCOUNT','VEHCOUNT']"
   ]
  },
  {
   "cell_type": "code",
   "execution_count": 21,
   "metadata": {},
   "outputs": [],
   "source": [
    "# Removing unusual columns from dataset\n",
    "\n",
    "data_after = data_before.drop(columns=remove_cols, axis=1)"
   ]
  },
  {
   "cell_type": "code",
   "execution_count": 22,
   "metadata": {},
   "outputs": [
    {
     "data": {
      "text/plain": [
       "(221266, 40)"
      ]
     },
     "execution_count": 22,
     "metadata": {},
     "output_type": "execute_result"
    }
   ],
   "source": [
    "data_before.shape"
   ]
  },
  {
   "cell_type": "code",
   "execution_count": 23,
   "metadata": {},
   "outputs": [
    {
     "data": {
      "text/plain": [
       "(221266, 11)"
      ]
     },
     "execution_count": 23,
     "metadata": {},
     "output_type": "execute_result"
    }
   ],
   "source": [
    "data_after.shape"
   ]
  },
  {
   "cell_type": "code",
   "execution_count": 24,
   "metadata": {},
   "outputs": [
    {
     "data": {
      "text/html": [
       "<div>\n",
       "<style scoped>\n",
       "    .dataframe tbody tr th:only-of-type {\n",
       "        vertical-align: middle;\n",
       "    }\n",
       "\n",
       "    .dataframe tbody tr th {\n",
       "        vertical-align: top;\n",
       "    }\n",
       "\n",
       "    .dataframe thead th {\n",
       "        text-align: right;\n",
       "    }\n",
       "</style>\n",
       "<table border=\"1\" class=\"dataframe\">\n",
       "  <thead>\n",
       "    <tr style=\"text-align: right;\">\n",
       "      <th></th>\n",
       "      <th>ADDRTYPE</th>\n",
       "      <th>SEVERITYCODE</th>\n",
       "      <th>COLLISIONTYPE</th>\n",
       "      <th>INCDTTM</th>\n",
       "      <th>JUNCTIONTYPE</th>\n",
       "      <th>UNDERINFL</th>\n",
       "      <th>WEATHER</th>\n",
       "      <th>ROADCOND</th>\n",
       "      <th>LIGHTCOND</th>\n",
       "      <th>PEDROWNOTGRNT</th>\n",
       "      <th>SPEEDING</th>\n",
       "    </tr>\n",
       "  </thead>\n",
       "  <tbody>\n",
       "    <tr>\n",
       "      <th>0</th>\n",
       "      <td>Intersection</td>\n",
       "      <td>2</td>\n",
       "      <td>Pedestrian</td>\n",
       "      <td>11/20/2019 10:25:00 AM</td>\n",
       "      <td>At Intersection (intersection related)</td>\n",
       "      <td>N</td>\n",
       "      <td>Clear</td>\n",
       "      <td>Dry</td>\n",
       "      <td>Daylight</td>\n",
       "      <td>Y</td>\n",
       "      <td>NaN</td>\n",
       "    </tr>\n",
       "  </tbody>\n",
       "</table>\n",
       "</div>"
      ],
      "text/plain": [
       "       ADDRTYPE SEVERITYCODE COLLISIONTYPE                 INCDTTM  \\\n",
       "0  Intersection            2    Pedestrian  11/20/2019 10:25:00 AM   \n",
       "\n",
       "                             JUNCTIONTYPE UNDERINFL WEATHER ROADCOND  \\\n",
       "0  At Intersection (intersection related)         N   Clear      Dry   \n",
       "\n",
       "  LIGHTCOND PEDROWNOTGRNT SPEEDING  \n",
       "0  Daylight             Y      NaN  "
      ]
     },
     "execution_count": 24,
     "metadata": {},
     "output_type": "execute_result"
    }
   ],
   "source": [
    "data_after.head(1)"
   ]
  },
  {
   "cell_type": "code",
   "execution_count": 25,
   "metadata": {},
   "outputs": [
    {
     "data": {
      "text/plain": [
       "1     137485\n",
       "2      58698\n",
       "0      21635\n",
       "2b      3098\n",
       "3        349\n",
       "Name: SEVERITYCODE, dtype: int64"
      ]
     },
     "execution_count": 25,
     "metadata": {},
     "output_type": "execute_result"
    }
   ],
   "source": [
    "data_after['SEVERITYCODE'].value_counts()"
   ]
  },
  {
   "cell_type": "code",
   "execution_count": 26,
   "metadata": {},
   "outputs": [],
   "source": [
    "# Removing rows having Severitycode - 0\n",
    "data_after['SEVERITYCODE'].replace('0',np.nan, inplace=True)"
   ]
  },
  {
   "cell_type": "code",
   "execution_count": 27,
   "metadata": {},
   "outputs": [],
   "source": [
    "data_after.dropna(axis=0, subset=['SEVERITYCODE'], inplace=True)"
   ]
  },
  {
   "cell_type": "code",
   "execution_count": 28,
   "metadata": {},
   "outputs": [],
   "source": [
    "# Replacing 2b and 3 with 3 and 4 for ease to use\n",
    "\n",
    "data_after['SEVERITYCODE'].replace('3', '4',inplace=True)\n",
    "data_after['SEVERITYCODE'].replace('2b', '3',inplace=True)"
   ]
  },
  {
   "cell_type": "code",
   "execution_count": 29,
   "metadata": {},
   "outputs": [
    {
     "data": {
      "text/plain": [
       "1    137485\n",
       "2     58698\n",
       "3      3098\n",
       "4       349\n",
       "Name: SEVERITYCODE, dtype: int64"
      ]
     },
     "execution_count": 29,
     "metadata": {},
     "output_type": "execute_result"
    }
   ],
   "source": [
    "data_after['SEVERITYCODE'].value_counts()"
   ]
  },
  {
   "cell_type": "markdown",
   "metadata": {},
   "source": [
    "#### As we can see, This data is highly unbalanced and have more occurences around the Severtiy code '1'.\n",
    "#### We have to balance it using resampling techniques else the model will give highly biased result favoring severitycode '1'.\n",
    "\n",
    "#### But before, we need to select features for our models."
   ]
  },
  {
   "cell_type": "code",
   "execution_count": 30,
   "metadata": {},
   "outputs": [
    {
     "data": {
      "text/plain": [
       "ADDRTYPE           1931\n",
       "SEVERITYCODE          0\n",
       "COLLISIONTYPE      4865\n",
       "INCDTTM               0\n",
       "JUNCTIONTYPE       6375\n",
       "UNDERINFL          4845\n",
       "WEATHER            5055\n",
       "ROADCOND           4975\n",
       "LIGHTCOND          5143\n",
       "PEDROWNOTGRNT    194443\n",
       "SPEEDING         189718\n",
       "dtype: int64"
      ]
     },
     "execution_count": 30,
     "metadata": {},
     "output_type": "execute_result"
    }
   ],
   "source": [
    "data_after.isnull().sum()"
   ]
  },
  {
   "cell_type": "code",
   "execution_count": 31,
   "metadata": {},
   "outputs": [
    {
     "data": {
      "text/plain": [
       "N    103480\n",
       "0     81676\n",
       "Y      5399\n",
       "1      4230\n",
       "Name: UNDERINFL, dtype: int64"
      ]
     },
     "execution_count": 31,
     "metadata": {},
     "output_type": "execute_result"
    }
   ],
   "source": [
    "data_after['UNDERINFL'].value_counts()"
   ]
  },
  {
   "cell_type": "markdown",
   "metadata": {},
   "source": [
    "#### Above we can see, 'N' and '0' refers same so as 'Y' and '1'."
   ]
  },
  {
   "cell_type": "code",
   "execution_count": 32,
   "metadata": {},
   "outputs": [],
   "source": [
    "data_after['UNDERINFL'].replace('N','0',inplace=True)\n",
    "data_after['UNDERINFL'].replace('Y','1',inplace=True)"
   ]
  },
  {
   "cell_type": "code",
   "execution_count": 33,
   "metadata": {},
   "outputs": [
    {
     "data": {
      "text/plain": [
       "0    185156\n",
       "1      9629\n",
       "Name: UNDERINFL, dtype: int64"
      ]
     },
     "execution_count": 33,
     "metadata": {},
     "output_type": "execute_result"
    }
   ],
   "source": [
    "data_after['UNDERINFL'].value_counts()"
   ]
  },
  {
   "cell_type": "markdown",
   "metadata": {},
   "source": [
    "#### We can most of the columns are categorical and are having null values.\n",
    "\n",
    "##### We will be filling these values with equal distribution of the categories in each column"
   ]
  },
  {
   "cell_type": "markdown",
   "metadata": {},
   "source": [
    "## Speeding feature only has 'Y' and rest are NaN"
   ]
  },
  {
   "cell_type": "code",
   "execution_count": 34,
   "metadata": {
    "scrolled": true
   },
   "outputs": [
    {
     "data": {
      "text/plain": [
       "Y    9912\n",
       "Name: SPEEDING, dtype: int64"
      ]
     },
     "execution_count": 34,
     "metadata": {},
     "output_type": "execute_result"
    }
   ],
   "source": [
    "data_after['SPEEDING'].value_counts()"
   ]
  },
  {
   "cell_type": "code",
   "execution_count": 35,
   "metadata": {},
   "outputs": [
    {
     "data": {
      "text/plain": [
       "189718"
      ]
     },
     "execution_count": 35,
     "metadata": {},
     "output_type": "execute_result"
    }
   ],
   "source": [
    "data_after['SPEEDING'].isnull().sum()"
   ]
  },
  {
   "cell_type": "code",
   "execution_count": 36,
   "metadata": {},
   "outputs": [],
   "source": [
    "data_after['SPEEDING'].replace('Y',int(1),inplace=True)\n",
    "data_after['SPEEDING'].replace(np.nan,int(0),inplace=True)\n"
   ]
  },
  {
   "cell_type": "code",
   "execution_count": 40,
   "metadata": {},
   "outputs": [
    {
     "data": {
      "text/plain": [
       "0    189718\n",
       "1      9912\n",
       "Name: SPEEDING, dtype: int64"
      ]
     },
     "execution_count": 40,
     "metadata": {},
     "output_type": "execute_result"
    }
   ],
   "source": [
    "data_after['SPEEDING'].value_counts()"
   ]
  },
  {
   "cell_type": "code",
   "execution_count": 39,
   "metadata": {},
   "outputs": [],
   "source": [
    "data_after['SPEEDING'] = data_after['SPEEDING'].astype(int)"
   ]
  },
  {
   "cell_type": "code",
   "execution_count": 41,
   "metadata": {},
   "outputs": [
    {
     "data": {
      "text/plain": [
       "221264    0\n",
       "221265    0\n",
       "Name: SPEEDING, dtype: int64"
      ]
     },
     "execution_count": 41,
     "metadata": {},
     "output_type": "execute_result"
    }
   ],
   "source": [
    "data_after['SPEEDING'].tail(2)"
   ]
  },
  {
   "cell_type": "code",
   "execution_count": 42,
   "metadata": {},
   "outputs": [],
   "source": [
    "def fill_nulls(dataframe, cols):\n",
    "    df = dataframe\n",
    "    for c in cols:\n",
    "        s = df[c].value_counts(normalize=True)\n",
    "        missing = df[c].isnull()\n",
    "        df.loc[missing,c] = np.random.choice(s.index, size=len(df[missing]),p=s.values)"
   ]
  },
  {
   "cell_type": "code",
   "execution_count": 43,
   "metadata": {},
   "outputs": [],
   "source": [
    "fill_null_cols = ['ADDRTYPE', 'COLLISIONTYPE','JUNCTIONTYPE','UNDERINFL', 'WEATHER', 'ROADCOND', 'LIGHTCOND', 'PEDROWNOTGRNT']"
   ]
  },
  {
   "cell_type": "code",
   "execution_count": 44,
   "metadata": {},
   "outputs": [],
   "source": [
    "fill_nulls(data_after,fill_null_cols)\n"
   ]
  },
  {
   "cell_type": "code",
   "execution_count": 45,
   "metadata": {
    "scrolled": true
   },
   "outputs": [
    {
     "data": {
      "text/plain": [
       "ADDRTYPE         0\n",
       "SEVERITYCODE     0\n",
       "COLLISIONTYPE    0\n",
       "INCDTTM          0\n",
       "JUNCTIONTYPE     0\n",
       "UNDERINFL        0\n",
       "WEATHER          0\n",
       "ROADCOND         0\n",
       "LIGHTCOND        0\n",
       "PEDROWNOTGRNT    0\n",
       "SPEEDING         0\n",
       "dtype: int64"
      ]
     },
     "execution_count": 45,
     "metadata": {},
     "output_type": "execute_result"
    }
   ],
   "source": [
    "data_after.isnull().sum()\n"
   ]
  },
  {
   "cell_type": "code",
   "execution_count": 38,
   "metadata": {},
   "outputs": [],
   "source": []
  },
  {
   "cell_type": "code",
   "execution_count": null,
   "metadata": {},
   "outputs": [],
   "source": []
  },
  {
   "cell_type": "code",
   "execution_count": null,
   "metadata": {},
   "outputs": [],
   "source": []
  },
  {
   "cell_type": "code",
   "execution_count": 46,
   "metadata": {},
   "outputs": [],
   "source": [
    "# Extracting year, month,day to get insights on individual\n",
    "\n",
    "data_after['year'] = pd.DatetimeIndex(data_after['INCDTTM']).year\n",
    "data_after['month'] = pd.DatetimeIndex(data_after['INCDTTM']).month\n",
    "data_after['day'] = pd.DatetimeIndex(data_after['INCDTTM']).day\n",
    "\n",
    "data_after['month'] = data_after['month'].apply(lambda x: calendar.month_abbr[x])"
   ]
  },
  {
   "cell_type": "code",
   "execution_count": 47,
   "metadata": {},
   "outputs": [
    {
     "data": {
      "text/html": [
       "<div>\n",
       "<style scoped>\n",
       "    .dataframe tbody tr th:only-of-type {\n",
       "        vertical-align: middle;\n",
       "    }\n",
       "\n",
       "    .dataframe tbody tr th {\n",
       "        vertical-align: top;\n",
       "    }\n",
       "\n",
       "    .dataframe thead th {\n",
       "        text-align: right;\n",
       "    }\n",
       "</style>\n",
       "<table border=\"1\" class=\"dataframe\">\n",
       "  <thead>\n",
       "    <tr style=\"text-align: right;\">\n",
       "      <th></th>\n",
       "      <th>ADDRTYPE</th>\n",
       "      <th>SEVERITYCODE</th>\n",
       "      <th>COLLISIONTYPE</th>\n",
       "      <th>INCDTTM</th>\n",
       "      <th>JUNCTIONTYPE</th>\n",
       "      <th>UNDERINFL</th>\n",
       "      <th>WEATHER</th>\n",
       "      <th>ROADCOND</th>\n",
       "      <th>LIGHTCOND</th>\n",
       "      <th>PEDROWNOTGRNT</th>\n",
       "      <th>SPEEDING</th>\n",
       "      <th>year</th>\n",
       "      <th>month</th>\n",
       "      <th>day</th>\n",
       "    </tr>\n",
       "  </thead>\n",
       "  <tbody>\n",
       "    <tr>\n",
       "      <th>0</th>\n",
       "      <td>Intersection</td>\n",
       "      <td>2</td>\n",
       "      <td>Pedestrian</td>\n",
       "      <td>11/20/2019 10:25:00 AM</td>\n",
       "      <td>At Intersection (intersection related)</td>\n",
       "      <td>0</td>\n",
       "      <td>Clear</td>\n",
       "      <td>Dry</td>\n",
       "      <td>Daylight</td>\n",
       "      <td>Y</td>\n",
       "      <td>0</td>\n",
       "      <td>2019</td>\n",
       "      <td>Nov</td>\n",
       "      <td>20</td>\n",
       "    </tr>\n",
       "  </tbody>\n",
       "</table>\n",
       "</div>"
      ],
      "text/plain": [
       "       ADDRTYPE SEVERITYCODE COLLISIONTYPE                 INCDTTM  \\\n",
       "0  Intersection            2    Pedestrian  11/20/2019 10:25:00 AM   \n",
       "\n",
       "                             JUNCTIONTYPE UNDERINFL WEATHER ROADCOND  \\\n",
       "0  At Intersection (intersection related)         0   Clear      Dry   \n",
       "\n",
       "  LIGHTCOND PEDROWNOTGRNT  SPEEDING  year month  day  \n",
       "0  Daylight             Y         0  2019   Nov   20  "
      ]
     },
     "execution_count": 47,
     "metadata": {},
     "output_type": "execute_result"
    }
   ],
   "source": [
    "data_after.head(1)"
   ]
  },
  {
   "cell_type": "markdown",
   "metadata": {},
   "source": [
    "## We have performed cleaning data, Now we can save this and can use for exploratory data analysis."
   ]
  },
  {
   "cell_type": "markdown",
   "metadata": {},
   "source": []
  },
  {
   "cell_type": "code",
   "execution_count": 48,
   "metadata": {},
   "outputs": [],
   "source": [
    "data_after.to_csv(\"data_cleaned.csv\",index=False)"
   ]
  },
  {
   "cell_type": "code",
   "execution_count": null,
   "metadata": {},
   "outputs": [],
   "source": []
  }
 ],
 "metadata": {
  "kernelspec": {
   "display_name": "Python 3",
   "language": "python",
   "name": "python3"
  },
  "language_info": {
   "codemirror_mode": {
    "name": "ipython",
    "version": 3
   },
   "file_extension": ".py",
   "mimetype": "text/x-python",
   "name": "python",
   "nbconvert_exporter": "python",
   "pygments_lexer": "ipython3",
   "version": "3.8.2"
  }
 },
 "nbformat": 4,
 "nbformat_minor": 2
}
