{
 "cells": [
  {
   "cell_type": "code",
   "execution_count": 196,
   "metadata": {},
   "outputs": [],
   "source": [
    "import pandas as pd\n",
    "import numpy as np\n",
    "import matplotlib.pyplot as plt\n",
    "import seaborn as sns\n",
    "import itertools\n",
    "from sklearn.model_selection import train_test_split\n",
    "from imblearn.over_sampling import RandomOverSampler\n",
    "from sklearn.model_selection import train_test_split\n",
    "from sklearn.linear_model import LogisticRegression\n",
    "from sklearn.neighbors import KNeighborsClassifier\n",
    "from xgboost import XGBClassifier\n",
    "from sklearn.tree import DecisionTreeClassifier\n",
    "from sklearn.ensemble import RandomForestClassifier\n",
    "from sklearn.metrics import accuracy_score,f1_score, confusion_matrix, classification_report"
   ]
  },
  {
   "cell_type": "code",
   "execution_count": 197,
   "metadata": {},
   "outputs": [],
   "source": [
    "data = pd.read_csv(\"data_cleaned.csv\")\n",
    "data.drop(columns=['INCDTTM','year','day','month'],axis=1, inplace=True)"
   ]
  },
  {
   "cell_type": "code",
   "execution_count": 198,
   "metadata": {},
   "outputs": [
    {
     "data": {
      "text/html": [
       "<div>\n",
       "<style scoped>\n",
       "    .dataframe tbody tr th:only-of-type {\n",
       "        vertical-align: middle;\n",
       "    }\n",
       "\n",
       "    .dataframe tbody tr th {\n",
       "        vertical-align: top;\n",
       "    }\n",
       "\n",
       "    .dataframe thead th {\n",
       "        text-align: right;\n",
       "    }\n",
       "</style>\n",
       "<table border=\"1\" class=\"dataframe\">\n",
       "  <thead>\n",
       "    <tr style=\"text-align: right;\">\n",
       "      <th></th>\n",
       "      <th>ADDRTYPE</th>\n",
       "      <th>SEVERITYCODE</th>\n",
       "      <th>COLLISIONTYPE</th>\n",
       "      <th>JUNCTIONTYPE</th>\n",
       "      <th>UNDERINFL</th>\n",
       "      <th>WEATHER</th>\n",
       "      <th>ROADCOND</th>\n",
       "      <th>LIGHTCOND</th>\n",
       "      <th>PEDROWNOTGRNT</th>\n",
       "      <th>SPEEDING</th>\n",
       "      <th>HITPARKEDCAR</th>\n",
       "    </tr>\n",
       "  </thead>\n",
       "  <tbody>\n",
       "    <tr>\n",
       "      <th>0</th>\n",
       "      <td>Intersection</td>\n",
       "      <td>2</td>\n",
       "      <td>Pedestrian</td>\n",
       "      <td>At Intersection (intersection related)</td>\n",
       "      <td>0</td>\n",
       "      <td>Clear</td>\n",
       "      <td>Dry</td>\n",
       "      <td>Daylight</td>\n",
       "      <td>Y</td>\n",
       "      <td>0</td>\n",
       "      <td>N</td>\n",
       "    </tr>\n",
       "    <tr>\n",
       "      <th>1</th>\n",
       "      <td>Intersection</td>\n",
       "      <td>2</td>\n",
       "      <td>Angles</td>\n",
       "      <td>At Intersection (intersection related)</td>\n",
       "      <td>0</td>\n",
       "      <td>Raining</td>\n",
       "      <td>Wet</td>\n",
       "      <td>Dark - Street Lights On</td>\n",
       "      <td>Y</td>\n",
       "      <td>0</td>\n",
       "      <td>N</td>\n",
       "    </tr>\n",
       "    <tr>\n",
       "      <th>2</th>\n",
       "      <td>Block</td>\n",
       "      <td>1</td>\n",
       "      <td>Sideswipe</td>\n",
       "      <td>Mid-Block (not related to intersection)</td>\n",
       "      <td>0</td>\n",
       "      <td>Clear</td>\n",
       "      <td>Dry</td>\n",
       "      <td>Daylight</td>\n",
       "      <td>Y</td>\n",
       "      <td>0</td>\n",
       "      <td>N</td>\n",
       "    </tr>\n",
       "    <tr>\n",
       "      <th>3</th>\n",
       "      <td>Intersection</td>\n",
       "      <td>1</td>\n",
       "      <td>Left Turn</td>\n",
       "      <td>At Intersection (intersection related)</td>\n",
       "      <td>0</td>\n",
       "      <td>Raining</td>\n",
       "      <td>Wet</td>\n",
       "      <td>Dark - Street Lights On</td>\n",
       "      <td>Y</td>\n",
       "      <td>0</td>\n",
       "      <td>N</td>\n",
       "    </tr>\n",
       "    <tr>\n",
       "      <th>4</th>\n",
       "      <td>Block</td>\n",
       "      <td>1</td>\n",
       "      <td>Other</td>\n",
       "      <td>Mid-Block (not related to intersection)</td>\n",
       "      <td>0</td>\n",
       "      <td>Clear</td>\n",
       "      <td>Dry</td>\n",
       "      <td>Dark - Street Lights On</td>\n",
       "      <td>Y</td>\n",
       "      <td>0</td>\n",
       "      <td>N</td>\n",
       "    </tr>\n",
       "  </tbody>\n",
       "</table>\n",
       "</div>"
      ],
      "text/plain": [
       "       ADDRTYPE  SEVERITYCODE COLLISIONTYPE  \\\n",
       "0  Intersection             2    Pedestrian   \n",
       "1  Intersection             2        Angles   \n",
       "2         Block             1     Sideswipe   \n",
       "3  Intersection             1     Left Turn   \n",
       "4         Block             1         Other   \n",
       "\n",
       "                              JUNCTIONTYPE  UNDERINFL  WEATHER ROADCOND  \\\n",
       "0   At Intersection (intersection related)          0    Clear      Dry   \n",
       "1   At Intersection (intersection related)          0  Raining      Wet   \n",
       "2  Mid-Block (not related to intersection)          0    Clear      Dry   \n",
       "3   At Intersection (intersection related)          0  Raining      Wet   \n",
       "4  Mid-Block (not related to intersection)          0    Clear      Dry   \n",
       "\n",
       "                 LIGHTCOND PEDROWNOTGRNT  SPEEDING HITPARKEDCAR  \n",
       "0                 Daylight             Y         0            N  \n",
       "1  Dark - Street Lights On             Y         0            N  \n",
       "2                 Daylight             Y         0            N  \n",
       "3  Dark - Street Lights On             Y         0            N  \n",
       "4  Dark - Street Lights On             Y         0            N  "
      ]
     },
     "execution_count": 198,
     "metadata": {},
     "output_type": "execute_result"
    }
   ],
   "source": [
    "data.head(5)"
   ]
  },
  {
   "cell_type": "code",
   "execution_count": 199,
   "metadata": {},
   "outputs": [
    {
     "data": {
      "text/plain": [
       "1    137485\n",
       "2     58698\n",
       "3      3098\n",
       "4       349\n",
       "Name: SEVERITYCODE, dtype: int64"
      ]
     },
     "execution_count": 199,
     "metadata": {},
     "output_type": "execute_result"
    }
   ],
   "source": [
    "data['SEVERITYCODE'].value_counts()"
   ]
  },
  {
   "cell_type": "code",
   "execution_count": 200,
   "metadata": {},
   "outputs": [
    {
     "data": {
      "text/plain": [
       "ADDRTYPE         object\n",
       "SEVERITYCODE      int64\n",
       "COLLISIONTYPE    object\n",
       "JUNCTIONTYPE     object\n",
       "UNDERINFL         int64\n",
       "WEATHER          object\n",
       "ROADCOND         object\n",
       "LIGHTCOND        object\n",
       "PEDROWNOTGRNT    object\n",
       "SPEEDING          int64\n",
       "HITPARKEDCAR     object\n",
       "dtype: object"
      ]
     },
     "execution_count": 200,
     "metadata": {},
     "output_type": "execute_result"
    }
   ],
   "source": [
    "data.dtypes"
   ]
  },
  {
   "cell_type": "code",
   "execution_count": 201,
   "metadata": {},
   "outputs": [],
   "source": [
    "cat_columns = ['ADDRTYPE','COLLISIONTYPE','JUNCTIONTYPE','WEATHER','ROADCOND','LIGHTCOND','HITPARKEDCAR','PEDROWNOTGRNT']"
   ]
  },
  {
   "cell_type": "code",
   "execution_count": 202,
   "metadata": {},
   "outputs": [],
   "source": [
    "data[cat_columns] = data[cat_columns].apply(lambda x: x.astype('category').cat.codes)"
   ]
  },
  {
   "cell_type": "code",
   "execution_count": 203,
   "metadata": {},
   "outputs": [
    {
     "data": {
      "text/html": [
       "<div>\n",
       "<style scoped>\n",
       "    .dataframe tbody tr th:only-of-type {\n",
       "        vertical-align: middle;\n",
       "    }\n",
       "\n",
       "    .dataframe tbody tr th {\n",
       "        vertical-align: top;\n",
       "    }\n",
       "\n",
       "    .dataframe thead th {\n",
       "        text-align: right;\n",
       "    }\n",
       "</style>\n",
       "<table border=\"1\" class=\"dataframe\">\n",
       "  <thead>\n",
       "    <tr style=\"text-align: right;\">\n",
       "      <th></th>\n",
       "      <th>ADDRTYPE</th>\n",
       "      <th>SEVERITYCODE</th>\n",
       "      <th>COLLISIONTYPE</th>\n",
       "      <th>JUNCTIONTYPE</th>\n",
       "      <th>UNDERINFL</th>\n",
       "      <th>WEATHER</th>\n",
       "      <th>ROADCOND</th>\n",
       "      <th>LIGHTCOND</th>\n",
       "      <th>PEDROWNOTGRNT</th>\n",
       "      <th>SPEEDING</th>\n",
       "      <th>HITPARKEDCAR</th>\n",
       "    </tr>\n",
       "  </thead>\n",
       "  <tbody>\n",
       "    <tr>\n",
       "      <th>199624</th>\n",
       "      <td>1</td>\n",
       "      <td>1</td>\n",
       "      <td>0</td>\n",
       "      <td>3</td>\n",
       "      <td>0</td>\n",
       "      <td>5</td>\n",
       "      <td>0</td>\n",
       "      <td>5</td>\n",
       "      <td>0</td>\n",
       "      <td>0</td>\n",
       "      <td>0</td>\n",
       "    </tr>\n",
       "    <tr>\n",
       "      <th>199625</th>\n",
       "      <td>1</td>\n",
       "      <td>1</td>\n",
       "      <td>7</td>\n",
       "      <td>4</td>\n",
       "      <td>0</td>\n",
       "      <td>11</td>\n",
       "      <td>7</td>\n",
       "      <td>5</td>\n",
       "      <td>0</td>\n",
       "      <td>0</td>\n",
       "      <td>0</td>\n",
       "    </tr>\n",
       "    <tr>\n",
       "      <th>199626</th>\n",
       "      <td>1</td>\n",
       "      <td>2</td>\n",
       "      <td>7</td>\n",
       "      <td>4</td>\n",
       "      <td>0</td>\n",
       "      <td>2</td>\n",
       "      <td>0</td>\n",
       "      <td>5</td>\n",
       "      <td>0</td>\n",
       "      <td>0</td>\n",
       "      <td>0</td>\n",
       "    </tr>\n",
       "    <tr>\n",
       "      <th>199627</th>\n",
       "      <td>2</td>\n",
       "      <td>1</td>\n",
       "      <td>8</td>\n",
       "      <td>1</td>\n",
       "      <td>0</td>\n",
       "      <td>2</td>\n",
       "      <td>0</td>\n",
       "      <td>5</td>\n",
       "      <td>0</td>\n",
       "      <td>0</td>\n",
       "      <td>0</td>\n",
       "    </tr>\n",
       "    <tr>\n",
       "      <th>199628</th>\n",
       "      <td>1</td>\n",
       "      <td>1</td>\n",
       "      <td>0</td>\n",
       "      <td>2</td>\n",
       "      <td>0</td>\n",
       "      <td>2</td>\n",
       "      <td>0</td>\n",
       "      <td>5</td>\n",
       "      <td>0</td>\n",
       "      <td>0</td>\n",
       "      <td>0</td>\n",
       "    </tr>\n",
       "    <tr>\n",
       "      <th>199629</th>\n",
       "      <td>1</td>\n",
       "      <td>2</td>\n",
       "      <td>5</td>\n",
       "      <td>4</td>\n",
       "      <td>0</td>\n",
       "      <td>2</td>\n",
       "      <td>0</td>\n",
       "      <td>5</td>\n",
       "      <td>0</td>\n",
       "      <td>0</td>\n",
       "      <td>0</td>\n",
       "    </tr>\n",
       "  </tbody>\n",
       "</table>\n",
       "</div>"
      ],
      "text/plain": [
       "        ADDRTYPE  SEVERITYCODE  COLLISIONTYPE  JUNCTIONTYPE  UNDERINFL  \\\n",
       "199624         1             1              0             3          0   \n",
       "199625         1             1              7             4          0   \n",
       "199626         1             2              7             4          0   \n",
       "199627         2             1              8             1          0   \n",
       "199628         1             1              0             2          0   \n",
       "199629         1             2              5             4          0   \n",
       "\n",
       "        WEATHER  ROADCOND  LIGHTCOND  PEDROWNOTGRNT  SPEEDING  HITPARKEDCAR  \n",
       "199624        5         0          5              0         0             0  \n",
       "199625       11         7          5              0         0             0  \n",
       "199626        2         0          5              0         0             0  \n",
       "199627        2         0          5              0         0             0  \n",
       "199628        2         0          5              0         0             0  \n",
       "199629        2         0          5              0         0             0  "
      ]
     },
     "execution_count": 203,
     "metadata": {},
     "output_type": "execute_result"
    }
   ],
   "source": [
    "data.tail(6)"
   ]
  },
  {
   "cell_type": "code",
   "execution_count": 204,
   "metadata": {},
   "outputs": [],
   "source": [
    "X = data.drop(columns=['SEVERITYCODE'],axis=1)\n",
    "Y = data['SEVERITYCODE']"
   ]
  },
  {
   "cell_type": "code",
   "execution_count": null,
   "metadata": {},
   "outputs": [],
   "source": []
  },
  {
   "cell_type": "code",
   "execution_count": 205,
   "metadata": {},
   "outputs": [
    {
     "name": "stdout",
     "output_type": "stream",
     "text": [
      "        Features        Score\n",
      "1  COLLISIONTYPE  5670.606450\n",
      "2   JUNCTIONTYPE  5312.475739\n",
      "4        WEATHER  4875.036603\n",
      "5       ROADCOND  2745.880663\n",
      "9   HITPARKEDCAR  2092.978875\n",
      "0       ADDRTYPE  1363.455201\n",
      "3      UNDERINFL  1132.955601\n",
      "8       SPEEDING   892.711942\n",
      "6      LIGHTCOND   609.365801\n"
     ]
    }
   ],
   "source": [
    "#apply SelectKBest to extract top 5 best features for housing df\n",
    "from sklearn.feature_selection import SelectKBest, chi2, f_classif\n",
    "\n",
    "bestfeatures = SelectKBest(score_func=chi2, k=5)\n",
    "fit = bestfeatures.fit(X,Y)\n",
    "dfscores = pd.DataFrame(fit.scores_)\n",
    "dfcolumns = pd.DataFrame(X.columns)\n",
    "#concat two dataframes for better visualization \n",
    "featureScores = pd.concat([dfcolumns,dfscores],axis=1)\n",
    "featureScores.columns = ['Features','Score']  #naming the dataframe columns\n",
    "print(featureScores.nlargest(14,'Score'))  #print 5best features"
   ]
  },
  {
   "cell_type": "code",
   "execution_count": 206,
   "metadata": {},
   "outputs": [],
   "source": [
    "X_train, X_test, y_train, y_test = train_test_split(X, Y, test_size=0.30, stratify=Y,random_state=66)"
   ]
  },
  {
   "cell_type": "code",
   "execution_count": 207,
   "metadata": {},
   "outputs": [
    {
     "data": {
      "text/plain": [
       "1    96239\n",
       "2    41089\n",
       "3     2169\n",
       "4      244\n",
       "Name: SEVERITYCODE, dtype: int64"
      ]
     },
     "execution_count": 207,
     "metadata": {},
     "output_type": "execute_result"
    }
   ],
   "source": [
    "y_train.value_counts()"
   ]
  },
  {
   "cell_type": "code",
   "execution_count": 208,
   "metadata": {},
   "outputs": [
    {
     "data": {
      "text/plain": [
       "1    41246\n",
       "2    17609\n",
       "3      929\n",
       "4      105\n",
       "Name: SEVERITYCODE, dtype: int64"
      ]
     },
     "execution_count": 208,
     "metadata": {},
     "output_type": "execute_result"
    }
   ],
   "source": [
    "y_test.value_counts()"
   ]
  },
  {
   "cell_type": "code",
   "execution_count": 209,
   "metadata": {},
   "outputs": [
    {
     "name": "stderr",
     "output_type": "stream",
     "text": [
      "/home/hemantsah/.local/lib/python3.8/site-packages/sklearn/utils/validation.py:68: FutureWarning: Pass classes=[1 2 3 4], y=13821     1\n",
      "188972    1\n",
      "145912    2\n",
      "27076     2\n",
      "190179    1\n",
      "         ..\n",
      "26963     2\n",
      "128589    1\n",
      "74827     1\n",
      "170151    1\n",
      "151924    2\n",
      "Name: SEVERITYCODE, Length: 139741, dtype: int64 as keyword args. From version 0.25 passing these as positional arguments will result in an error\n",
      "  warnings.warn(\"Pass {} as keyword args. From version 0.25 \"\n"
     ]
    }
   ],
   "source": [
    "from sklearn.utils import class_weight\n",
    "\n",
    "weights = class_weight.compute_class_weight('balanced', np.unique(y_train),y_train)"
   ]
  },
  {
   "cell_type": "code",
   "execution_count": 210,
   "metadata": {},
   "outputs": [
    {
     "data": {
      "text/plain": [
       "array([  0.36300512,   0.85023364,  16.10661595, 143.1772541 ])"
      ]
     },
     "execution_count": 210,
     "metadata": {},
     "output_type": "execute_result"
    }
   ],
   "source": [
    "weights"
   ]
  },
  {
   "cell_type": "code",
   "execution_count": 211,
   "metadata": {},
   "outputs": [
    {
     "data": {
      "text/plain": [
       "{1: 0.3630051226633693,\n",
       " 2: 0.8502336391735015,\n",
       " 3: 16.106615952051637,\n",
       " 4: 143.17725409836066}"
      ]
     },
     "execution_count": 211,
     "metadata": {},
     "output_type": "execute_result"
    }
   ],
   "source": [
    "class_weights = {}\n",
    "for i in range(4):\n",
    "    class_weights2[i+1] = weights2[i]\n",
    "class_weights"
   ]
  },
  {
   "cell_type": "code",
   "execution_count": 212,
   "metadata": {},
   "outputs": [],
   "source": [
    "models_info_df_4_class = pd.DataFrame([])"
   ]
  },
  {
   "cell_type": "code",
   "execution_count": null,
   "metadata": {},
   "outputs": [],
   "source": []
  },
  {
   "cell_type": "markdown",
   "metadata": {},
   "source": [
    "## Trying different models having severity code 1,2,3,4"
   ]
  },
  {
   "cell_type": "markdown",
   "metadata": {},
   "source": [
    "## Logistic Regression"
   ]
  },
  {
   "cell_type": "code",
   "execution_count": 254,
   "metadata": {},
   "outputs": [
    {
     "name": "stderr",
     "output_type": "stream",
     "text": [
      "/home/hemantsah/.local/lib/python3.8/site-packages/sklearn/linear_model/_logistic.py:762: ConvergenceWarning: lbfgs failed to converge (status=1):\n",
      "STOP: TOTAL NO. of ITERATIONS REACHED LIMIT.\n",
      "\n",
      "Increase the number of iterations (max_iter) or scale the data as shown in:\n",
      "    https://scikit-learn.org/stable/modules/preprocessing.html\n",
      "Please also refer to the documentation for alternative solver options:\n",
      "    https://scikit-learn.org/stable/modules/linear_model.html#logistic-regression\n",
      "  n_iter_i = _check_optimize_result(\n"
     ]
    },
    {
     "name": "stdout",
     "output_type": "stream",
     "text": [
      "Accuracy on training set: 0.4841170451048726\n",
      "Accuracy on test set: 0.48144066523067675\n",
      "F1 score 0.554102110056551\n",
      "              precision    recall  f1-score   support\n",
      "\n",
      "           1       0.78      0.57      0.66     41246\n",
      "           2       0.41      0.30      0.34     17609\n",
      "           3       0.02      0.19      0.03       929\n",
      "           4       0.01      0.45      0.01       105\n",
      "\n",
      "    accuracy                           0.48     59889\n",
      "   macro avg       0.30      0.38      0.26     59889\n",
      "weighted avg       0.66      0.48      0.55     59889\n",
      "\n"
     ]
    }
   ],
   "source": [
    "\n",
    "lr1 = LogisticRegression(class_weight=class_weights,random_state = 0)\n",
    "lr1.fit(X_train, y_train)\n",
    "y_pred_lr1 = lr1.predict(X_test)\n",
    "\n",
    "\n",
    "print('Accuracy on training set:',lr1.score(X_train,y_train))\n",
    "print('Accuracy on test set:',lr1.score(X_test,y_test))\n",
    "print(\"F1 score\", f1_score(y_test, y_pred_lr1,average='weighted'))\n",
    "\n",
    "print (classification_report(y_test, y_pred_lr1))\n",
    "\n",
    "models_info_df_4_class = models_info_df_4_class.append([(\"Logistic Regression 4 class\",lr1.score(X_train,y_train), lr1.score(X_test,y_test), f1_score(y_test, y_pred_lr1,average='weighted'))])"
   ]
  },
  {
   "cell_type": "code",
   "execution_count": null,
   "metadata": {},
   "outputs": [],
   "source": []
  },
  {
   "cell_type": "markdown",
   "metadata": {},
   "source": [
    "## Random Forest Classifier"
   ]
  },
  {
   "cell_type": "code",
   "execution_count": 214,
   "metadata": {},
   "outputs": [
    {
     "name": "stdout",
     "output_type": "stream",
     "text": [
      "Accuracy on training set: 0.5717219713613041\n",
      "Accuracy on test set: 0.5540416437075256\n",
      "F1 Score :  0.6098873717988984\n",
      "              precision    recall  f1-score   support\n",
      "\n",
      "           1       0.88      0.56      0.68     41246\n",
      "           2       0.41      0.56      0.48     17609\n",
      "           3       0.05      0.29      0.08       929\n",
      "           4       0.01      0.46      0.02       105\n",
      "\n",
      "    accuracy                           0.55     59889\n",
      "   macro avg       0.34      0.47      0.32     59889\n",
      "weighted avg       0.73      0.55      0.61     59889\n",
      "\n"
     ]
    }
   ],
   "source": [
    "\n",
    "rf_clf1 = RandomForestClassifier(n_estimators = 10, random_state = 0,class_weight=class_weights)\n",
    "rf_clf1.fit(X_train, y_train)\n",
    "y_pred_rfc1 = rf_clf1.predict(X_test)\n",
    "print('Accuracy on training set:',rf_clf1.score(X_train,y_train))\n",
    "print('Accuracy on test set:',rf_clf1.score(X_test,y_test))\n",
    "print(\"F1 Score : \",f1_score(y_test,y_pred_rfc1, average='weighted'))\n",
    "print(classification_report(y_test, y_pred_rfc1))\n",
    "models_info_df_4_class = models_info_df_4_class.append([(\"RandomForestClassifier 4 class\",rf_clf1.score(X_train,y_train), rf_clf1.score(X_test,y_test), f1_score(y_test,y_pred_rfc1, average='weighted') )])"
   ]
  },
  {
   "cell_type": "code",
   "execution_count": null,
   "metadata": {},
   "outputs": [],
   "source": []
  },
  {
   "cell_type": "markdown",
   "metadata": {},
   "source": [
    "## Decision Tree Classifier"
   ]
  },
  {
   "cell_type": "code",
   "execution_count": 215,
   "metadata": {},
   "outputs": [
    {
     "name": "stdout",
     "output_type": "stream",
     "text": [
      "Accuracy on training set 0.565782411747447\n",
      "Accuracy on test set: 0.5460936065053683\n",
      "F1 Score :  0.605360715874127\n",
      "              precision    recall  f1-score   support\n",
      "\n",
      "           1       0.88      0.55      0.68     41246\n",
      "           2       0.41      0.55      0.47     17609\n",
      "           3       0.05      0.30      0.08       929\n",
      "           4       0.01      0.51      0.02       105\n",
      "\n",
      "    accuracy                           0.55     59889\n",
      "   macro avg       0.34      0.48      0.31     59889\n",
      "weighted avg       0.73      0.55      0.61     59889\n",
      "\n"
     ]
    }
   ],
   "source": [
    "\n",
    "dtc1 = DecisionTreeClassifier(class_weight=class_weights)\n",
    "dtc1.fit(X_train, y_train)\n",
    "y_pred_dtc1 = dtc1.predict(X_test)\n",
    "print('Accuracy on training set',dtc1.score(X_train, y_train))\n",
    "print('Accuracy on test set:',dtc1.score(X_test, y_test))\n",
    "print(\"F1 Score : \",f1_score(y_test,y_pred_dtc1, average='weighted'))\n",
    "print(classification_report(y_test, y_pred_dtc1))\n",
    "models_info_df_4_class = models_info_df_4_class.append([(\"DecisionTreeClassifier 4 class\",dtc1.score(X_train, y_train), dtc1.score(X_test, y_test), f1_score(y_test,y_pred_dtc1, average='weighted') )])"
   ]
  },
  {
   "cell_type": "code",
   "execution_count": null,
   "metadata": {},
   "outputs": [],
   "source": []
  },
  {
   "cell_type": "markdown",
   "metadata": {},
   "source": [
    "## XGBClassifier"
   ]
  },
  {
   "cell_type": "code",
   "execution_count": 216,
   "metadata": {},
   "outputs": [
    {
     "name": "stdout",
     "output_type": "stream",
     "text": [
      "Accuracy score on train_data:  0.7397971962416184\n",
      "Accuracy score on test_data:  0.7345756315850991\n",
      "F1 score 0.6807308313247457\n",
      "              precision    recall  f1-score   support\n",
      "\n",
      "           1       0.74      0.98      0.84     41246\n",
      "           2       0.72      0.21      0.33     17609\n",
      "           3       0.38      0.00      0.01       929\n",
      "           4       0.00      0.00      0.00       105\n",
      "\n",
      "    accuracy                           0.73     59889\n",
      "   macro avg       0.46      0.30      0.29     59889\n",
      "weighted avg       0.72      0.73      0.67     59889\n",
      "\n"
     ]
    }
   ],
   "source": [
    "\n",
    "xgb_clf1= XGBClassifier(class_weight=class_weights)\n",
    "xgb_clf1.fit(X_train, y_train)\n",
    "\n",
    "y_pred_xgb1 = xgb_clf1.predict(X_test)\n",
    "\n",
    "print('Accuracy score on train_data: ', accuracy_score(y_true = y_train, y_pred = xgb_clf1.predict(X_train).round()))\n",
    "print('Accuracy score on test_data: ', accuracy_score(y_true = y_test, y_pred = xgb_clf1.predict(X_test).round()))\n",
    "print(\"F1 score\", f1_score(y_true = y_train, y_pred = xgb_clf1.predict(X_train).round(), average='weighted'))\n",
    "print(classification_report(y_test, y_pred_xgb1))\n",
    "models_info_df_4_class = models_info_df_4_class.append([(\"XGBClassifier 4 class\",accuracy_score(y_true = y_train, y_pred = xgb_clf1.predict(X_train).round()),accuracy_score(y_true = y_test, y_pred = xgb_clf1.predict(X_test).round()), f1_score(y_true = y_train, y_pred = xgb_clf1.predict(X_train).round(), average='weighted') )])"
   ]
  },
  {
   "cell_type": "code",
   "execution_count": null,
   "metadata": {},
   "outputs": [],
   "source": []
  },
  {
   "cell_type": "markdown",
   "metadata": {},
   "source": [
    "## KNeighborsClassifier"
   ]
  },
  {
   "cell_type": "code",
   "execution_count": 217,
   "metadata": {},
   "outputs": [
    {
     "name": "stdout",
     "output_type": "stream",
     "text": [
      "Accuracy on training set: 0.7065857550754611\n",
      "Accuracy on test set: 0.6991100202040441\n",
      "F1 Score :  0.685062395535323\n",
      "              precision    recall  f1-score   support\n",
      "\n",
      "           1       0.77      0.83      0.80     41246\n",
      "           2       0.50      0.43      0.46     17609\n",
      "           3       0.21      0.01      0.01       929\n",
      "           4       0.00      0.00      0.00       105\n",
      "\n",
      "    accuracy                           0.70     59889\n",
      "   macro avg       0.37      0.32      0.32     59889\n",
      "weighted avg       0.68      0.70      0.69     59889\n",
      "\n"
     ]
    },
    {
     "name": "stderr",
     "output_type": "stream",
     "text": [
      "/home/hemantsah/.local/lib/python3.8/site-packages/sklearn/metrics/_classification.py:1221: UndefinedMetricWarning: Precision and F-score are ill-defined and being set to 0.0 in labels with no predicted samples. Use `zero_division` parameter to control this behavior.\n",
      "  _warn_prf(average, modifier, msg_start, len(result))\n"
     ]
    }
   ],
   "source": [
    "\n",
    "knn_clf1 = KNeighborsClassifier(n_neighbors = 5, metric = 'minkowski', p = 2)  \n",
    "#You can change these hyperparameters like metric etc.\n",
    "knn_clf1.fit(X_train, y_train)\n",
    "y_pred_knn1 = knn_clf1.predict(X_test)\n",
    "print('Accuracy on training set:',knn_clf1.score(X_train,y_train))\n",
    "print('Accuracy on test set:',knn_clf1.score(X_test,y_test))\n",
    "print(\"F1 Score : \",f1_score(y_test,y_pred_knn1, average='weighted'))\n",
    "print(classification_report(y_test, y_pred_knn1))\n",
    "models_info_df_4_class = models_info_df_4_class.append([(\"KNeighborsClassifier 4 class\",knn_clf1.score(X_train,y_train), knn_clf1.score(X_test,y_test),f1_score(y_test,y_pred_knn1, average='weighted'))])"
   ]
  },
  {
   "cell_type": "code",
   "execution_count": null,
   "metadata": {},
   "outputs": [],
   "source": []
  },
  {
   "cell_type": "markdown",
   "metadata": {},
   "source": [
    "## Trying Different models having severity code 1,2 = 1 and 3,4 = 2"
   ]
  },
  {
   "cell_type": "code",
   "execution_count": 243,
   "metadata": {},
   "outputs": [],
   "source": [
    "data2 = pd.read_csv(\"data_cleaned.csv\")\n",
    "\n",
    "data2.drop(columns=['INCDTTM','year','day','month'],axis=1, inplace=True)"
   ]
  },
  {
   "cell_type": "code",
   "execution_count": 244,
   "metadata": {},
   "outputs": [],
   "source": [
    "cat_columns = ['ADDRTYPE','COLLISIONTYPE','JUNCTIONTYPE','WEATHER','ROADCOND','LIGHTCOND','HITPARKEDCAR','PEDROWNOTGRNT']"
   ]
  },
  {
   "cell_type": "code",
   "execution_count": 245,
   "metadata": {},
   "outputs": [],
   "source": [
    "data2[cat_columns] = data2[cat_columns].apply(lambda x: x.astype('category').cat.codes)"
   ]
  },
  {
   "cell_type": "code",
   "execution_count": null,
   "metadata": {},
   "outputs": [],
   "source": []
  },
  {
   "cell_type": "code",
   "execution_count": 246,
   "metadata": {},
   "outputs": [
    {
     "data": {
      "text/plain": [
       "1    196183\n",
       "2      3447\n",
       "Name: SEVERITYCODE, dtype: int64"
      ]
     },
     "execution_count": 246,
     "metadata": {},
     "output_type": "execute_result"
    }
   ],
   "source": [
    "# # Ordering 1 & 2 as 1 and 3 & 4 as 2\n",
    "data2['SEVERITYCODE'].replace(2,1,inplace=True)\n",
    "data2['SEVERITYCODE'].replace(3,2,inplace=True)\n",
    "data2['SEVERITYCODE'].replace(4,2,inplace=True)\n",
    "data2['SEVERITYCODE'].value_counts()"
   ]
  },
  {
   "cell_type": "code",
   "execution_count": 247,
   "metadata": {},
   "outputs": [],
   "source": [
    "X2 = data2.drop(columns=['SEVERITYCODE'],axis=1)\n",
    "Y2 = data2['SEVERITYCODE']"
   ]
  },
  {
   "cell_type": "code",
   "execution_count": 248,
   "metadata": {},
   "outputs": [],
   "source": [
    "X2_train, X2_test, y2_train, y2_test = train_test_split(X2, Y2, test_size=0.30, stratify=Y2,random_state=66)"
   ]
  },
  {
   "cell_type": "code",
   "execution_count": 249,
   "metadata": {},
   "outputs": [
    {
     "name": "stderr",
     "output_type": "stream",
     "text": [
      "/home/hemantsah/.local/lib/python3.8/site-packages/sklearn/utils/validation.py:68: FutureWarning: Pass classes=[1 2], y=173177    1\n",
      "80370     1\n",
      "99238     1\n",
      "171655    1\n",
      "80217     1\n",
      "         ..\n",
      "119476    1\n",
      "91440     1\n",
      "58825     1\n",
      "169686    2\n",
      "129707    1\n",
      "Name: SEVERITYCODE, Length: 139741, dtype: int64 as keyword args. From version 0.25 passing these as positional arguments will result in an error\n",
      "  warnings.warn(\"Pass {} as keyword args. From version 0.25 \"\n"
     ]
    }
   ],
   "source": [
    "from sklearn.utils import class_weight\n",
    "\n",
    "weights2 = class_weight.compute_class_weight('balanced', np.unique(y2_train),y2_train)"
   ]
  },
  {
   "cell_type": "code",
   "execution_count": 250,
   "metadata": {},
   "outputs": [
    {
     "data": {
      "text/plain": [
       "array([ 0.50878554, 28.95586407])"
      ]
     },
     "execution_count": 250,
     "metadata": {},
     "output_type": "execute_result"
    }
   ],
   "source": [
    "weights2"
   ]
  },
  {
   "cell_type": "code",
   "execution_count": 252,
   "metadata": {},
   "outputs": [
    {
     "data": {
      "text/plain": [
       "{1: 0.5087855353605966, 2: 28.955864069622876}"
      ]
     },
     "execution_count": 252,
     "metadata": {},
     "output_type": "execute_result"
    }
   ],
   "source": [
    "class_weights2 = {}\n",
    "for i in range(2):\n",
    "    class_weights2[i+1] = weights2[i]\n",
    "class_weights2"
   ]
  },
  {
   "cell_type": "code",
   "execution_count": 253,
   "metadata": {},
   "outputs": [],
   "source": [
    "models_info_df_2_class = pd.DataFrame([])"
   ]
  },
  {
   "cell_type": "markdown",
   "metadata": {},
   "source": [
    "## Logistic Regression"
   ]
  },
  {
   "cell_type": "code",
   "execution_count": 255,
   "metadata": {},
   "outputs": [
    {
     "name": "stdout",
     "output_type": "stream",
     "text": [
      "Accuracy on training set: 0.6356044396419089\n",
      "Accuracy on test set: 0.6349747032009218\n",
      "F1 score 0.761400059381787\n",
      "              precision    recall  f1-score   support\n",
      "\n",
      "           1       0.99      0.64      0.77     58855\n",
      "           2       0.03      0.61      0.05      1034\n",
      "\n",
      "    accuracy                           0.63     59889\n",
      "   macro avg       0.51      0.62      0.41     59889\n",
      "weighted avg       0.97      0.63      0.76     59889\n",
      "\n"
     ]
    }
   ],
   "source": [
    "\n",
    "lr2 = LogisticRegression(class_weight=class_weights2,random_state = 0)\n",
    "lr2.fit(X2_train, y2_train)\n",
    "y_pred_lr2 = lr2.predict(X2_test)\n",
    "\n",
    "\n",
    "print('Accuracy on training set:',lr2.score(X2_train,y2_train))\n",
    "print('Accuracy on test set:',lr2.score(X2_test,y2_test))\n",
    "print(\"F1 score\", f1_score(y2_test, y_pred_lr2, average='weighted'))\n",
    "\n",
    "print (classification_report(y2_test, y_pred_lr2))\n",
    "\n",
    "models_info_df_2_class = models_info_df_2_class.append([(\"Logistic Regression 2 class\",lr2.score(X2_train,y2_train), lr2.score(X2_test,y2_test), f1_score(y2_test, y_pred_lr2,average='weighted'))])"
   ]
  },
  {
   "cell_type": "markdown",
   "metadata": {},
   "source": [
    "## Random Forest Clasifier"
   ]
  },
  {
   "cell_type": "code",
   "execution_count": 256,
   "metadata": {
    "scrolled": true
   },
   "outputs": [
    {
     "name": "stdout",
     "output_type": "stream",
     "text": [
      "Accuracy on training set: 0.9833477647934393\n",
      "Accuracy on test set: 0.9823172869809147\n",
      "F1 Score :  0.9741292828086912\n",
      "              precision    recall  f1-score   support\n",
      "\n",
      "           1       0.98      1.00      0.99     58855\n",
      "           2       0.14      0.00      0.01      1034\n",
      "\n",
      "    accuracy                           0.98     59889\n",
      "   macro avg       0.56      0.50      0.50     59889\n",
      "weighted avg       0.97      0.98      0.97     59889\n",
      "\n"
     ]
    }
   ],
   "source": [
    "\n",
    "rf_clf2 = RandomForestClassifier(n_estimators = 10, random_state = 0)\n",
    "rf_clf2.fit(X2_train, y2_train)\n",
    "y_pred_rfc2 = rf_clf2.predict(X2_test)\n",
    "print('Accuracy on training set:',rf_clf2.score(X2_train,y2_train))\n",
    "print('Accuracy on test set:',rf_clf2.score(X2_test,y2_test))\n",
    "print(\"F1 Score : \",f1_score(y2_test,y_pred_rfc2, average='weighted'))\n",
    "print(classification_report(y2_test, y_pred_rfc2))\n",
    "models_info_df_2_class = models_info_df_2_class.append([(\"RandomForestClassifier 2 class\",rf_clf2.score(X2_train,y2_train), rf_clf2.score(X2_test,y2_test), f1_score(y2_test,y_pred_rfc2, average='weighted') )])"
   ]
  },
  {
   "cell_type": "markdown",
   "metadata": {},
   "source": [
    "## Decision Tree Classifier"
   ]
  },
  {
   "cell_type": "code",
   "execution_count": 258,
   "metadata": {},
   "outputs": [
    {
     "name": "stdout",
     "output_type": "stream",
     "text": [
      "Accuracy on training set 0.7985058071718393\n",
      "Accuracy on test set: 0.7941525154869843\n",
      "F1 Score :  0.8702456790568794\n",
      "              precision    recall  f1-score   support\n",
      "\n",
      "           1       0.99      0.80      0.88     58855\n",
      "           2       0.05      0.61      0.09      1034\n",
      "\n",
      "    accuracy                           0.79     59889\n",
      "   macro avg       0.52      0.70      0.49     59889\n",
      "weighted avg       0.98      0.79      0.87     59889\n",
      "\n"
     ]
    }
   ],
   "source": [
    "\n",
    "dtc2 = DecisionTreeClassifier(class_weight=class_weights2)\n",
    "dtc2.fit(X2_train, y2_train)\n",
    "y_pred_dtc2 = dtc2.predict(X2_test)\n",
    "print('Accuracy on training set',dtc2.score(X2_train, y2_train))\n",
    "print('Accuracy on test set:',dtc2.score(X2_test, y2_test))\n",
    "print(\"F1 Score : \",f1_score(y2_test,y_pred_dtc2, average='weighted'))\n",
    "print(classification_report(y2_test, y_pred_dtc2))\n",
    "models_info_df_2_class = models_info_df_2_class.append([(\"DecisionTreeClassifier 2 class\",dtc2.score(X2_train, y2_train), dtc2.score(X2_test, y2_test), f1_score(y2_test,y_pred_dtc2, average='weighted') )])"
   ]
  },
  {
   "cell_type": "markdown",
   "metadata": {},
   "source": [
    "## XGBClassifier"
   ]
  },
  {
   "cell_type": "code",
   "execution_count": 259,
   "metadata": {},
   "outputs": [
    {
     "name": "stdout",
     "output_type": "stream",
     "text": [
      "Accuracy score on train_data:  0.9828683063667786\n",
      "Accuracy score on test_data:  0.9826345405667151\n",
      "F1 score 0.974579618482291\n",
      "              precision    recall  f1-score   support\n",
      "\n",
      "           1       0.98      1.00      0.99     58855\n",
      "           2       0.25      0.00      0.01      1034\n",
      "\n",
      "    accuracy                           0.98     59889\n",
      "   macro avg       0.62      0.50      0.50     59889\n",
      "weighted avg       0.97      0.98      0.97     59889\n",
      "\n"
     ]
    }
   ],
   "source": [
    "\n",
    "xgb_clf2 = XGBClassifier()\n",
    "xgb_clf2.fit(X2_train, y2_train)\n",
    "\n",
    "y_pred_xgb2 = xgb_clf2.predict(X2_test)\n",
    "\n",
    "print('Accuracy score on train_data: ', accuracy_score(y_true = y2_train, y_pred = xgb_clf2.predict(X2_train).round()))\n",
    "print('Accuracy score on test_data: ', accuracy_score(y_true = y2_test, y_pred = xgb_clf2.predict(X2_test).round()))\n",
    "print(\"F1 score\", f1_score(y_true = y2_train, y_pred = xgb_clf2.predict(X2_train).round(), average='weighted'))\n",
    "print(classification_report(y2_test, y_pred_xgb2))\n",
    "models_info_df_2_class = models_info_df_2_class.append([(\"XGBClassifier 2 class\",accuracy_score(y_true = y2_train, y_pred = xgb_clf2.predict(X2_train).round()),accuracy_score(y_true = y2_test, y_pred = xgb_clf2.predict(X2_test).round()), f1_score(y_true = y2_train, y_pred = xgb_clf2.predict(X2_train).round(), average='weighted') )])"
   ]
  },
  {
   "cell_type": "markdown",
   "metadata": {},
   "source": [
    "## KNeighborsClassifier"
   ]
  },
  {
   "cell_type": "code",
   "execution_count": 260,
   "metadata": {},
   "outputs": [
    {
     "name": "stdout",
     "output_type": "stream",
     "text": [
      "Accuracy on training set: 0.9816303017725649\n",
      "Accuracy on test set: 0.9817161749236086\n",
      "F1 Score :  0.9743891439677576\n",
      "              precision    recall  f1-score   support\n",
      "\n",
      "           1       0.98      1.00      0.99     58855\n",
      "           2       0.22      0.02      0.04      1034\n",
      "\n",
      "    accuracy                           0.98     59889\n",
      "   macro avg       0.60      0.51      0.52     59889\n",
      "weighted avg       0.97      0.98      0.97     59889\n",
      "\n"
     ]
    }
   ],
   "source": [
    "\n",
    "knn_clf2 = KNeighborsClassifier(n_neighbors = 5, metric = 'minkowski', p = 2)  \n",
    "#You can change these hyperparameters like metric etc.\n",
    "knn_clf2.fit(X2_train, y2_train)\n",
    "y_pred_knn2 = knn_clf2.predict(X2_test)\n",
    "print('Accuracy on training set:',knn_clf2.score(X2_train,y2_train))\n",
    "print('Accuracy on test set:',knn_clf2.score(X2_test,y2_test))\n",
    "print(\"F1 Score : \",f1_score(y2_test,y_pred_knn2, average='weighted'))\n",
    "print(classification_report(y2_test, y_pred_knn2))\n",
    "models_info_df_2_class = models_info_df_2_class.append([(\"KNeighborsClassifier 2 class\",knn_clf2.score(X2_train,y2_train), knn_clf2.score(X2_test,y2_test),f1_score(y2_test,y_pred_knn2, average='weighted'))])"
   ]
  },
  {
   "cell_type": "code",
   "execution_count": 237,
   "metadata": {},
   "outputs": [
    {
     "data": {
      "text/html": [
       "<div>\n",
       "<style scoped>\n",
       "    .dataframe tbody tr th:only-of-type {\n",
       "        vertical-align: middle;\n",
       "    }\n",
       "\n",
       "    .dataframe tbody tr th {\n",
       "        vertical-align: top;\n",
       "    }\n",
       "\n",
       "    .dataframe thead th {\n",
       "        text-align: right;\n",
       "    }\n",
       "</style>\n",
       "<table border=\"1\" class=\"dataframe\">\n",
       "  <thead>\n",
       "    <tr style=\"text-align: right;\">\n",
       "      <th></th>\n",
       "      <th>models</th>\n",
       "      <th>Training Accuracy</th>\n",
       "      <th>Test Accuracy</th>\n",
       "      <th>f1 score</th>\n",
       "    </tr>\n",
       "  </thead>\n",
       "  <tbody>\n",
       "    <tr>\n",
       "      <th>0</th>\n",
       "      <td>Logistic Regression 4 class</td>\n",
       "      <td>0.687500</td>\n",
       "      <td>0.687355</td>\n",
       "      <td>0.577311</td>\n",
       "    </tr>\n",
       "    <tr>\n",
       "      <th>0</th>\n",
       "      <td>RandomForestClassifier 4 class</td>\n",
       "      <td>0.571722</td>\n",
       "      <td>0.554042</td>\n",
       "      <td>0.609887</td>\n",
       "    </tr>\n",
       "    <tr>\n",
       "      <th>0</th>\n",
       "      <td>DecisionTreeClassifier 4 class</td>\n",
       "      <td>0.565782</td>\n",
       "      <td>0.546094</td>\n",
       "      <td>0.605361</td>\n",
       "    </tr>\n",
       "    <tr>\n",
       "      <th>0</th>\n",
       "      <td>XGBClassifier 4 class</td>\n",
       "      <td>0.739797</td>\n",
       "      <td>0.734576</td>\n",
       "      <td>0.680731</td>\n",
       "    </tr>\n",
       "    <tr>\n",
       "      <th>0</th>\n",
       "      <td>KNeighborsClassifier 4 class</td>\n",
       "      <td>0.706586</td>\n",
       "      <td>0.699110</td>\n",
       "      <td>0.685062</td>\n",
       "    </tr>\n",
       "  </tbody>\n",
       "</table>\n",
       "</div>"
      ],
      "text/plain": [
       "                           models  Training Accuracy  Test Accuracy  f1 score\n",
       "0     Logistic Regression 4 class           0.687500       0.687355  0.577311\n",
       "0  RandomForestClassifier 4 class           0.571722       0.554042  0.609887\n",
       "0  DecisionTreeClassifier 4 class           0.565782       0.546094  0.605361\n",
       "0           XGBClassifier 4 class           0.739797       0.734576  0.680731\n",
       "0    KNeighborsClassifier 4 class           0.706586       0.699110  0.685062"
      ]
     },
     "execution_count": 237,
     "metadata": {},
     "output_type": "execute_result"
    }
   ],
   "source": [
    "models_info_df_4_class.columns = ['models','Training Accuracy','Test Accuracy', 'f1 score']\n",
    "models_info_df_4_class"
   ]
  },
  {
   "cell_type": "code",
   "execution_count": 261,
   "metadata": {},
   "outputs": [
    {
     "data": {
      "text/html": [
       "<div>\n",
       "<style scoped>\n",
       "    .dataframe tbody tr th:only-of-type {\n",
       "        vertical-align: middle;\n",
       "    }\n",
       "\n",
       "    .dataframe tbody tr th {\n",
       "        vertical-align: top;\n",
       "    }\n",
       "\n",
       "    .dataframe thead th {\n",
       "        text-align: right;\n",
       "    }\n",
       "</style>\n",
       "<table border=\"1\" class=\"dataframe\">\n",
       "  <thead>\n",
       "    <tr style=\"text-align: right;\">\n",
       "      <th></th>\n",
       "      <th>models</th>\n",
       "      <th>Training Accuracy</th>\n",
       "      <th>Test Accuracy</th>\n",
       "      <th>f1 score</th>\n",
       "    </tr>\n",
       "  </thead>\n",
       "  <tbody>\n",
       "    <tr>\n",
       "      <th>0</th>\n",
       "      <td>Logistic Regression 2 class</td>\n",
       "      <td>0.635604</td>\n",
       "      <td>0.634975</td>\n",
       "      <td>0.761400</td>\n",
       "    </tr>\n",
       "    <tr>\n",
       "      <th>0</th>\n",
       "      <td>RandomForestClassifier 2 class</td>\n",
       "      <td>0.983348</td>\n",
       "      <td>0.982317</td>\n",
       "      <td>0.974129</td>\n",
       "    </tr>\n",
       "    <tr>\n",
       "      <th>0</th>\n",
       "      <td>DecisionTreeClassifier 2 class</td>\n",
       "      <td>0.983434</td>\n",
       "      <td>0.982117</td>\n",
       "      <td>0.974183</td>\n",
       "    </tr>\n",
       "    <tr>\n",
       "      <th>0</th>\n",
       "      <td>DecisionTreeClassifier 2 class</td>\n",
       "      <td>0.798506</td>\n",
       "      <td>0.794153</td>\n",
       "      <td>0.870246</td>\n",
       "    </tr>\n",
       "    <tr>\n",
       "      <th>0</th>\n",
       "      <td>XGBClassifier 2 class</td>\n",
       "      <td>0.982868</td>\n",
       "      <td>0.982635</td>\n",
       "      <td>0.974580</td>\n",
       "    </tr>\n",
       "    <tr>\n",
       "      <th>0</th>\n",
       "      <td>KNeighborsClassifier 2 class</td>\n",
       "      <td>0.981630</td>\n",
       "      <td>0.981716</td>\n",
       "      <td>0.974389</td>\n",
       "    </tr>\n",
       "  </tbody>\n",
       "</table>\n",
       "</div>"
      ],
      "text/plain": [
       "                           models  Training Accuracy  Test Accuracy  f1 score\n",
       "0     Logistic Regression 2 class           0.635604       0.634975  0.761400\n",
       "0  RandomForestClassifier 2 class           0.983348       0.982317  0.974129\n",
       "0  DecisionTreeClassifier 2 class           0.983434       0.982117  0.974183\n",
       "0  DecisionTreeClassifier 2 class           0.798506       0.794153  0.870246\n",
       "0           XGBClassifier 2 class           0.982868       0.982635  0.974580\n",
       "0    KNeighborsClassifier 2 class           0.981630       0.981716  0.974389"
      ]
     },
     "execution_count": 261,
     "metadata": {},
     "output_type": "execute_result"
    }
   ],
   "source": [
    "models_info_df_2_class.columns = ['models','Training Accuracy','Test Accuracy', 'f1 score']\n",
    "models_info_df_2_class"
   ]
  },
  {
   "cell_type": "code",
   "execution_count": null,
   "metadata": {},
   "outputs": [],
   "source": []
  }
 ],
 "metadata": {
  "kernelspec": {
   "display_name": "Python 3",
   "language": "python",
   "name": "python3"
  },
  "language_info": {
   "codemirror_mode": {
    "name": "ipython",
    "version": 3
   },
   "file_extension": ".py",
   "mimetype": "text/x-python",
   "name": "python",
   "nbconvert_exporter": "python",
   "pygments_lexer": "ipython3",
   "version": "3.8.2"
  }
 },
 "nbformat": 4,
 "nbformat_minor": 2
}
