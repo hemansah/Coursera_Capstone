{
 "cells": [
  {
   "cell_type": "code",
   "execution_count": 109,
   "metadata": {},
   "outputs": [],
   "source": [
    "import pandas as pd\n",
    "import numpy as np \n",
    "import seaborn as sns\n",
    "import datetime\n",
    "import calendar\n",
    "import matplotlib.pyplot  as plt\n",
    "\n",
    "pd.set_option('display.max_columns', None)"
   ]
  },
  {
   "cell_type": "markdown",
   "metadata": {},
   "source": [
    "#### Reading Dataset"
   ]
  },
  {
   "cell_type": "code",
   "execution_count": 110,
   "metadata": {},
   "outputs": [],
   "source": [
    "data_before = pd.read_csv(\"Collisions.csv\")"
   ]
  },
  {
   "cell_type": "markdown",
   "metadata": {},
   "source": [
    "## Taking a glimpse of our dataset"
   ]
  },
  {
   "cell_type": "code",
   "execution_count": 111,
   "metadata": {},
   "outputs": [
    {
     "output_type": "execute_result",
     "data": {
      "text/plain": "            X          Y  OBJECTID  INCKEY  COLDETKEY REPORTNO   STATUS  \\\n0 -122.386772  47.564720         1  326234     327734  E984735  Matched   \n1 -122.341806  47.686934         2  326246     327746  E985430  Matched   \n\n       ADDRTYPE   INTKEY                             LOCATION EXCEPTRSNCODE  \\\n0  Intersection  31893.0  CALIFORNIA AVE SW AND SW GENESEE ST                 \n1  Intersection  24228.0            STONE AVE N AND N 80TH ST                 \n\n  EXCEPTRSNDESC SEVERITYCODE      SEVERITYDESC COLLISIONTYPE  PERSONCOUNT  \\\n0           NaN            2  Injury Collision    Pedestrian            2   \n1           NaN            2  Injury Collision        Angles            4   \n\n   PEDCOUNT  PEDCYLCOUNT  VEHCOUNT  INJURIES  SERIOUSINJURIES  FATALITIES  \\\n0         1            0         1         1                0           0   \n1         0            0         2         2                0           0   \n\n                  INCDATE                 INCDTTM  \\\n0  2019/11/20 00:00:00+00  11/20/2019 10:25:00 AM   \n1  2019/11/18 00:00:00+00   11/18/2019 5:01:00 PM   \n\n                             JUNCTIONTYPE  SDOT_COLCODE  \\\n0  At Intersection (intersection related)          24.0   \n1  At Intersection (intersection related)          11.0   \n\n                                        SDOT_COLDESC INATTENTIONIND UNDERINFL  \\\n0                    MOTOR VEHCILE STRUCK PEDESTRIAN            NaN         N   \n1  MOTOR VEHICLE STRUCK MOTOR VEHICLE, FRONT END ...            NaN         N   \n\n   WEATHER ROADCOND                LIGHTCOND PEDROWNOTGRNT  SDOTCOLNUM  \\\n0    Clear      Dry                 Daylight             Y         NaN   \n1  Raining      Wet  Dark - Street Lights On           NaN         NaN   \n\n  SPEEDING ST_COLCODE                            ST_COLDESC  SEGLANEKEY  \\\n0      NaN          2  Vehicle turning left hits pedestrian           0   \n1      NaN         10                     Entering at angle           0   \n\n   CROSSWALKKEY HITPARKEDCAR  \n0             0            N  \n1             0            N  ",
      "text/html": "<div>\n<style scoped>\n    .dataframe tbody tr th:only-of-type {\n        vertical-align: middle;\n    }\n\n    .dataframe tbody tr th {\n        vertical-align: top;\n    }\n\n    .dataframe thead th {\n        text-align: right;\n    }\n</style>\n<table border=\"1\" class=\"dataframe\">\n  <thead>\n    <tr style=\"text-align: right;\">\n      <th></th>\n      <th>X</th>\n      <th>Y</th>\n      <th>OBJECTID</th>\n      <th>INCKEY</th>\n      <th>COLDETKEY</th>\n      <th>REPORTNO</th>\n      <th>STATUS</th>\n      <th>ADDRTYPE</th>\n      <th>INTKEY</th>\n      <th>LOCATION</th>\n      <th>EXCEPTRSNCODE</th>\n      <th>EXCEPTRSNDESC</th>\n      <th>SEVERITYCODE</th>\n      <th>SEVERITYDESC</th>\n      <th>COLLISIONTYPE</th>\n      <th>PERSONCOUNT</th>\n      <th>PEDCOUNT</th>\n      <th>PEDCYLCOUNT</th>\n      <th>VEHCOUNT</th>\n      <th>INJURIES</th>\n      <th>SERIOUSINJURIES</th>\n      <th>FATALITIES</th>\n      <th>INCDATE</th>\n      <th>INCDTTM</th>\n      <th>JUNCTIONTYPE</th>\n      <th>SDOT_COLCODE</th>\n      <th>SDOT_COLDESC</th>\n      <th>INATTENTIONIND</th>\n      <th>UNDERINFL</th>\n      <th>WEATHER</th>\n      <th>ROADCOND</th>\n      <th>LIGHTCOND</th>\n      <th>PEDROWNOTGRNT</th>\n      <th>SDOTCOLNUM</th>\n      <th>SPEEDING</th>\n      <th>ST_COLCODE</th>\n      <th>ST_COLDESC</th>\n      <th>SEGLANEKEY</th>\n      <th>CROSSWALKKEY</th>\n      <th>HITPARKEDCAR</th>\n    </tr>\n  </thead>\n  <tbody>\n    <tr>\n      <th>0</th>\n      <td>-122.386772</td>\n      <td>47.564720</td>\n      <td>1</td>\n      <td>326234</td>\n      <td>327734</td>\n      <td>E984735</td>\n      <td>Matched</td>\n      <td>Intersection</td>\n      <td>31893.0</td>\n      <td>CALIFORNIA AVE SW AND SW GENESEE ST</td>\n      <td></td>\n      <td>NaN</td>\n      <td>2</td>\n      <td>Injury Collision</td>\n      <td>Pedestrian</td>\n      <td>2</td>\n      <td>1</td>\n      <td>0</td>\n      <td>1</td>\n      <td>1</td>\n      <td>0</td>\n      <td>0</td>\n      <td>2019/11/20 00:00:00+00</td>\n      <td>11/20/2019 10:25:00 AM</td>\n      <td>At Intersection (intersection related)</td>\n      <td>24.0</td>\n      <td>MOTOR VEHCILE STRUCK PEDESTRIAN</td>\n      <td>NaN</td>\n      <td>N</td>\n      <td>Clear</td>\n      <td>Dry</td>\n      <td>Daylight</td>\n      <td>Y</td>\n      <td>NaN</td>\n      <td>NaN</td>\n      <td>2</td>\n      <td>Vehicle turning left hits pedestrian</td>\n      <td>0</td>\n      <td>0</td>\n      <td>N</td>\n    </tr>\n    <tr>\n      <th>1</th>\n      <td>-122.341806</td>\n      <td>47.686934</td>\n      <td>2</td>\n      <td>326246</td>\n      <td>327746</td>\n      <td>E985430</td>\n      <td>Matched</td>\n      <td>Intersection</td>\n      <td>24228.0</td>\n      <td>STONE AVE N AND N 80TH ST</td>\n      <td></td>\n      <td>NaN</td>\n      <td>2</td>\n      <td>Injury Collision</td>\n      <td>Angles</td>\n      <td>4</td>\n      <td>0</td>\n      <td>0</td>\n      <td>2</td>\n      <td>2</td>\n      <td>0</td>\n      <td>0</td>\n      <td>2019/11/18 00:00:00+00</td>\n      <td>11/18/2019 5:01:00 PM</td>\n      <td>At Intersection (intersection related)</td>\n      <td>11.0</td>\n      <td>MOTOR VEHICLE STRUCK MOTOR VEHICLE, FRONT END ...</td>\n      <td>NaN</td>\n      <td>N</td>\n      <td>Raining</td>\n      <td>Wet</td>\n      <td>Dark - Street Lights On</td>\n      <td>NaN</td>\n      <td>NaN</td>\n      <td>NaN</td>\n      <td>10</td>\n      <td>Entering at angle</td>\n      <td>0</td>\n      <td>0</td>\n      <td>N</td>\n    </tr>\n  </tbody>\n</table>\n</div>"
     },
     "metadata": {},
     "execution_count": 111
    }
   ],
   "source": [
    "data_before.head(2)"
   ]
  },
  {
   "cell_type": "code",
   "execution_count": 112,
   "metadata": {
    "tags": []
   },
   "outputs": [
    {
     "output_type": "stream",
     "name": "stdout",
     "text": "<class 'pandas.core.frame.DataFrame'>\nRangeIndex: 221266 entries, 0 to 221265\nData columns (total 40 columns):\n #   Column           Non-Null Count   Dtype  \n---  ------           --------------   -----  \n 0   X                213797 non-null  float64\n 1   Y                213797 non-null  float64\n 2   OBJECTID         221266 non-null  int64  \n 3   INCKEY           221266 non-null  int64  \n 4   COLDETKEY        221266 non-null  int64  \n 5   REPORTNO         221266 non-null  object \n 6   STATUS           221266 non-null  object \n 7   ADDRTYPE         217554 non-null  object \n 8   INTKEY           71823 non-null   float64\n 9   LOCATION         216680 non-null  object \n 10  EXCEPTRSNCODE    100863 non-null  object \n 11  EXCEPTRSNDESC    11775 non-null   object \n 12  SEVERITYCODE     221265 non-null  object \n 13  SEVERITYDESC     221266 non-null  object \n 14  COLLISIONTYPE    194767 non-null  object \n 15  PERSONCOUNT      221266 non-null  int64  \n 16  PEDCOUNT         221266 non-null  int64  \n 17  PEDCYLCOUNT      221266 non-null  int64  \n 18  VEHCOUNT         221266 non-null  int64  \n 19  INJURIES         221266 non-null  int64  \n 20  SERIOUSINJURIES  221266 non-null  int64  \n 21  FATALITIES       221266 non-null  int64  \n 22  INCDATE          221266 non-null  object \n 23  INCDTTM          221266 non-null  object \n 24  JUNCTIONTYPE     209299 non-null  object \n 25  SDOT_COLCODE     221265 non-null  float64\n 26  SDOT_COLDESC     221265 non-null  object \n 27  INATTENTIONIND   30188 non-null   object \n 28  UNDERINFL        194787 non-null  object \n 29  WEATHER          194578 non-null  object \n 30  ROADCOND         194658 non-null  object \n 31  LIGHTCOND        194490 non-null  object \n 32  PEDROWNOTGRNT    5188 non-null    object \n 33  SDOTCOLNUM       127205 non-null  float64\n 34  SPEEDING         9913 non-null    object \n 35  ST_COLCODE       211853 non-null  object \n 36  ST_COLDESC       194767 non-null  object \n 37  SEGLANEKEY       221266 non-null  int64  \n 38  CROSSWALKKEY     221266 non-null  int64  \n 39  HITPARKEDCAR     221266 non-null  object \ndtypes: float64(5), int64(12), object(23)\nmemory usage: 67.5+ MB\n"
    }
   ],
   "source": [
    "data_before.info()"
   ]
  },
  {
   "cell_type": "markdown",
   "metadata": {},
   "source": [
    "#### Excluding columns that can't be considered as a feature.\n",
    "1. OBEJECTID\n",
    "2. SHAPE\n",
    "3. INCKEY\n",
    "4. COLDETKEY\n",
    "5. ADDRTYPE\n",
    "6. INTKEY\n",
    "7. EXCEPTRSNCODE\n",
    "8. EXCEPTRSNDESC\n",
    "9. SEVERITYDESC\n",
    "10. SDOTCOLNUM\n",
    "11. ST_COLDESC\n",
    "12. X\n",
    "13. Y\n",
    "14. REPORTNO\n",
    "15. STATUS\n",
    "16. LOCATION\n",
    "17. INJURIES\n",
    "18. SERIOUSINJURIES\n",
    "19. FATALITIES\n",
    "20. SEGLANEKEY\n",
    "21. CROSSWALKKEY\n",
    "\n",
    "\n",
    "#### Considering columns that will take part in model building\n",
    "1.  ADDRTYPE\n",
    "2.  SEVERITYCODE\n",
    "3.  COLLISIONTYPE\n",
    "4. PERSONCOUNT\n",
    "5.  PEDCOUNT\n",
    "6.  PEDCYLCOUNT\n",
    "7.  VEHCOUNT\n",
    "8.  INCDATE\n",
    "9.  INCDTTM\n",
    "10. JUNCTIONTYPE\n",
    "12. UNDERINFL\n",
    "13. WEATHER\n",
    "14. ROADCOND\n",
    "15. LIGHTCOND\n",
    "16. PEDROWNOTGRNT\n",
    "17. SPEEDING\n",
    "18. ST_COLCODE\n",
    "19. HITPARKEDCAR"
   ]
  },
  {
   "cell_type": "code",
   "execution_count": 113,
   "metadata": {},
   "outputs": [],
   "source": [
    "#  Making a list of columns which we will remove\n",
    "\n",
    "remove_cols = ['OBJECTID','INCKEY','COLDETKEY','INTKEY','EXCEPTRSNCODE','EXCEPTRSNDESC','SEVERITYDESC','SDOTCOLNUM','ST_COLDESC','X','Y','REPORTNO','STATUS','LOCATION','SDOT_COLDESC','SDOT_COLCODE','INJURIES','SERIOUSINJURIES','FATALITIES','SEGLANEKEY','CROSSWALKKEY','INATTENTIONIND','INCDATE','ST_COLCODE','PEDCOUNT','PERSONCOUNT','PEDCYLCOUNT','VEHCOUNT']"
   ]
  },
  {
   "cell_type": "code",
   "execution_count": 114,
   "metadata": {},
   "outputs": [],
   "source": [
    "# Removing unusual columns from dataset\n",
    "\n",
    "data_after = data_before.drop(columns=remove_cols, axis=1)"
   ]
  },
  {
   "cell_type": "code",
   "execution_count": 115,
   "metadata": {},
   "outputs": [
    {
     "output_type": "execute_result",
     "data": {
      "text/plain": "(221266, 40)"
     },
     "metadata": {},
     "execution_count": 115
    }
   ],
   "source": [
    "data_before.shape"
   ]
  },
  {
   "cell_type": "code",
   "execution_count": 116,
   "metadata": {},
   "outputs": [
    {
     "output_type": "execute_result",
     "data": {
      "text/plain": "(221266, 12)"
     },
     "metadata": {},
     "execution_count": 116
    }
   ],
   "source": [
    "data_after.shape"
   ]
  },
  {
   "cell_type": "code",
   "execution_count": 117,
   "metadata": {},
   "outputs": [
    {
     "output_type": "execute_result",
     "data": {
      "text/plain": "1     137485\n2      58698\n0      21635\n2b      3098\n3        349\nName: SEVERITYCODE, dtype: int64"
     },
     "metadata": {},
     "execution_count": 117
    }
   ],
   "source": [
    "data_after['SEVERITYCODE'].value_counts()"
   ]
  },
  {
   "cell_type": "code",
   "execution_count": 118,
   "metadata": {},
   "outputs": [],
   "source": [
    "# Removing rows having Severitycode - 0\n",
    "data_after['SEVERITYCODE'].replace('0',np.nan, inplace=True)"
   ]
  },
  {
   "cell_type": "code",
   "execution_count": 119,
   "metadata": {},
   "outputs": [],
   "source": [
    "data_after.dropna(axis=0, subset=['SEVERITYCODE'], inplace=True)"
   ]
  },
  {
   "cell_type": "code",
   "execution_count": 120,
   "metadata": {},
   "outputs": [],
   "source": [
    "# Replacing 2b and 3 with 3 and 4 for ease to use\n",
    "\n",
    "data_after['SEVERITYCODE'].replace('3', '4',inplace=True)\n",
    "data_after['SEVERITYCODE'].replace('2b', '3',inplace=True)"
   ]
  },
  {
   "cell_type": "code",
   "execution_count": 121,
   "metadata": {},
   "outputs": [
    {
     "output_type": "execute_result",
     "data": {
      "text/plain": "1    137485\n2     58698\n3      3098\n4       349\nName: SEVERITYCODE, dtype: int64"
     },
     "metadata": {},
     "execution_count": 121
    }
   ],
   "source": [
    "data_after['SEVERITYCODE'].value_counts()"
   ]
  },
  {
   "cell_type": "markdown",
   "metadata": {},
   "source": [
    "#### As we can see, This data is highly unbalanced and have more occurences around the Severtiy code '1'.\n",
    "#### We have to balance it using resampling techniques else the model will give highly biased result favoring severitycode '1'.\n",
    "\n",
    "#### But before, we need to select features for our models."
   ]
  },
  {
   "cell_type": "code",
   "execution_count": 122,
   "metadata": {},
   "outputs": [
    {
     "output_type": "execute_result",
     "data": {
      "text/plain": "ADDRTYPE           1931\nSEVERITYCODE          0\nCOLLISIONTYPE      4865\nINCDTTM               0\nJUNCTIONTYPE       6375\nUNDERINFL          4845\nWEATHER            5055\nROADCOND           4975\nLIGHTCOND          5143\nPEDROWNOTGRNT    194443\nSPEEDING         189718\nHITPARKEDCAR          0\ndtype: int64"
     },
     "metadata": {},
     "execution_count": 122
    }
   ],
   "source": [
    "data_after.isnull().sum()"
   ]
  },
  {
   "cell_type": "code",
   "execution_count": 123,
   "metadata": {},
   "outputs": [
    {
     "output_type": "execute_result",
     "data": {
      "text/plain": "N    103480\n0     81676\nY      5399\n1      4230\nName: UNDERINFL, dtype: int64"
     },
     "metadata": {},
     "execution_count": 123
    }
   ],
   "source": [
    "data_after['UNDERINFL'].value_counts()"
   ]
  },
  {
   "cell_type": "markdown",
   "metadata": {},
   "source": [
    "#### Above we can see, 'N' and '0' refers same so as 'Y' and '1'."
   ]
  },
  {
   "cell_type": "code",
   "execution_count": 124,
   "metadata": {},
   "outputs": [],
   "source": [
    "data_after['UNDERINFL'].replace('N','0',inplace=True)\n",
    "data_after['UNDERINFL'].replace('Y','1',inplace=True)"
   ]
  },
  {
   "cell_type": "code",
   "execution_count": 125,
   "metadata": {},
   "outputs": [
    {
     "output_type": "execute_result",
     "data": {
      "text/plain": "0    185156\n1      9629\nName: UNDERINFL, dtype: int64"
     },
     "metadata": {},
     "execution_count": 125
    }
   ],
   "source": [
    "data_after['UNDERINFL'].value_counts()"
   ]
  },
  {
   "cell_type": "markdown",
   "metadata": {},
   "source": [
    "#### We can most of the columns are categorical and are having null values.\n",
    "\n",
    "##### We will be filling these values with equal distribution of the categories in each column"
   ]
  },
  {
   "cell_type": "markdown",
   "metadata": {},
   "source": [
    "## Speeding feature only has 'Y' and rest are NaN"
   ]
  },
  {
   "cell_type": "code",
   "execution_count": 126,
   "metadata": {
    "scrolled": true
   },
   "outputs": [
    {
     "output_type": "execute_result",
     "data": {
      "text/plain": "Y    9912\nName: SPEEDING, dtype: int64"
     },
     "metadata": {},
     "execution_count": 126
    }
   ],
   "source": [
    "data_after['SPEEDING'].value_counts()"
   ]
  },
  {
   "cell_type": "code",
   "execution_count": 127,
   "metadata": {},
   "outputs": [
    {
     "output_type": "execute_result",
     "data": {
      "text/plain": "189718"
     },
     "metadata": {},
     "execution_count": 127
    }
   ],
   "source": [
    "data_after['SPEEDING'].isnull().sum()"
   ]
  },
  {
   "cell_type": "code",
   "execution_count": 128,
   "metadata": {},
   "outputs": [],
   "source": [
    "data_after['SPEEDING'].replace('Y',int(1),inplace=True)\n",
    "data_after['SPEEDING'].replace(np.nan,int(0),inplace=True)\n"
   ]
  },
  {
   "cell_type": "code",
   "execution_count": 129,
   "metadata": {},
   "outputs": [
    {
     "output_type": "execute_result",
     "data": {
      "text/plain": "0         0\n1         0\n2         0\n3         0\n6         0\n         ..\n221261    0\n221262    0\n221263    0\n221264    0\n221265    0\nName: SPEEDING, Length: 199630, dtype: int64"
     },
     "metadata": {},
     "execution_count": 129
    }
   ],
   "source": [
    "data_after['SPEEDING'].astype(int)"
   ]
  },
  {
   "cell_type": "code",
   "execution_count": 130,
   "metadata": {},
   "outputs": [
    {
     "output_type": "execute_result",
     "data": {
      "text/plain": "220679    0.0\n220680    0.0\n220681    0.0\n220682    0.0\n220685    0.0\n         ... \n221261    0.0\n221262    0.0\n221263    0.0\n221264    0.0\n221265    0.0\nName: SPEEDING, Length: 500, dtype: float64"
     },
     "metadata": {},
     "execution_count": 130
    }
   ],
   "source": [
    "data_after['SPEEDING'].tail(500)"
   ]
  },
  {
   "cell_type": "code",
   "execution_count": 131,
   "metadata": {},
   "outputs": [],
   "source": [
    "def fill_nulls(dataframe, cols):\n",
    "    df = dataframe\n",
    "    for c in cols:\n",
    "        s = df[c].value_counts(normalize=True)\n",
    "        missing = df[c].isnull()\n",
    "        df.loc[missing,c] = np.random.choice(s.index, size=len(df[missing]),p=s.values)"
   ]
  },
  {
   "cell_type": "code",
   "execution_count": 132,
   "metadata": {},
   "outputs": [],
   "source": [
    "fill_null_cols = ['ADDRTYPE', 'COLLISIONTYPE','JUNCTIONTYPE','UNDERINFL', 'WEATHER', 'ROADCOND', 'LIGHTCOND', 'PEDROWNOTGRNT']"
   ]
  },
  {
   "cell_type": "code",
   "execution_count": 133,
   "metadata": {},
   "outputs": [],
   "source": [
    "fill_nulls(data_after,fill_null_cols)\n"
   ]
  },
  {
   "cell_type": "code",
   "execution_count": 134,
   "metadata": {
    "scrolled": true
   },
   "outputs": [
    {
     "output_type": "execute_result",
     "data": {
      "text/plain": "ADDRTYPE         0\nSEVERITYCODE     0\nCOLLISIONTYPE    0\nINCDTTM          0\nJUNCTIONTYPE     0\nUNDERINFL        0\nWEATHER          0\nROADCOND         0\nLIGHTCOND        0\nPEDROWNOTGRNT    0\nSPEEDING         0\nHITPARKEDCAR     0\ndtype: int64"
     },
     "metadata": {},
     "execution_count": 134
    }
   ],
   "source": [
    "data_after.isnull().sum()\n"
   ]
  },
  {
   "cell_type": "code",
   "execution_count": 135,
   "metadata": {},
   "outputs": [],
   "source": [
    "data_after['SPEEDING'] = data_after['SPEEDING'].astype(int)"
   ]
  },
  {
   "cell_type": "code",
   "execution_count": null,
   "metadata": {},
   "outputs": [],
   "source": []
  },
  {
   "cell_type": "code",
   "execution_count": null,
   "metadata": {},
   "outputs": [],
   "source": []
  },
  {
   "cell_type": "code",
   "execution_count": 136,
   "metadata": {},
   "outputs": [],
   "source": [
    "# Extracting year, month,day to get insights on individual\n",
    "\n",
    "data_after['year'] = pd.DatetimeIndex(data_after['INCDTTM']).year\n",
    "data_after['month'] = pd.DatetimeIndex(data_after['INCDTTM']).month\n",
    "data_after['day'] = pd.DatetimeIndex(data_after['INCDTTM']).day\n",
    "\n",
    "data_after['month'] = data_after['month'].apply(lambda x: calendar.month_abbr[x])"
   ]
  },
  {
   "cell_type": "code",
   "execution_count": 137,
   "metadata": {},
   "outputs": [
    {
     "output_type": "execute_result",
     "data": {
      "text/plain": "       ADDRTYPE SEVERITYCODE COLLISIONTYPE                 INCDTTM  \\\n0  Intersection            2    Pedestrian  11/20/2019 10:25:00 AM   \n\n                             JUNCTIONTYPE UNDERINFL WEATHER ROADCOND  \\\n0  At Intersection (intersection related)         0   Clear      Dry   \n\n  LIGHTCOND PEDROWNOTGRNT  SPEEDING HITPARKEDCAR  year month  day  \n0  Daylight             Y         0            N  2019   Nov   20  ",
      "text/html": "<div>\n<style scoped>\n    .dataframe tbody tr th:only-of-type {\n        vertical-align: middle;\n    }\n\n    .dataframe tbody tr th {\n        vertical-align: top;\n    }\n\n    .dataframe thead th {\n        text-align: right;\n    }\n</style>\n<table border=\"1\" class=\"dataframe\">\n  <thead>\n    <tr style=\"text-align: right;\">\n      <th></th>\n      <th>ADDRTYPE</th>\n      <th>SEVERITYCODE</th>\n      <th>COLLISIONTYPE</th>\n      <th>INCDTTM</th>\n      <th>JUNCTIONTYPE</th>\n      <th>UNDERINFL</th>\n      <th>WEATHER</th>\n      <th>ROADCOND</th>\n      <th>LIGHTCOND</th>\n      <th>PEDROWNOTGRNT</th>\n      <th>SPEEDING</th>\n      <th>HITPARKEDCAR</th>\n      <th>year</th>\n      <th>month</th>\n      <th>day</th>\n    </tr>\n  </thead>\n  <tbody>\n    <tr>\n      <th>0</th>\n      <td>Intersection</td>\n      <td>2</td>\n      <td>Pedestrian</td>\n      <td>11/20/2019 10:25:00 AM</td>\n      <td>At Intersection (intersection related)</td>\n      <td>0</td>\n      <td>Clear</td>\n      <td>Dry</td>\n      <td>Daylight</td>\n      <td>Y</td>\n      <td>0</td>\n      <td>N</td>\n      <td>2019</td>\n      <td>Nov</td>\n      <td>20</td>\n    </tr>\n  </tbody>\n</table>\n</div>"
     },
     "metadata": {},
     "execution_count": 137
    }
   ],
   "source": [
    "data_after.head(1)"
   ]
  },
  {
   "cell_type": "markdown",
   "metadata": {},
   "source": [
    "## We have performed cleaning data, Now we can save this and can use for exploratory data analysis."
   ]
  },
  {
   "cell_type": "markdown",
   "metadata": {},
   "source": []
  },
  {
   "cell_type": "code",
   "execution_count": 138,
   "metadata": {},
   "outputs": [],
   "source": [
    "data_after.to_csv(\"data_cleaned.csv\",index=False)"
   ]
  },
  {
   "cell_type": "code",
   "execution_count": null,
   "metadata": {},
   "outputs": [],
   "source": []
  }
 ],
 "metadata": {
  "kernelspec": {
   "display_name": "Python 3",
   "language": "python",
   "name": "python3"
  },
  "language_info": {
   "codemirror_mode": {
    "name": "ipython",
    "version": 3
   },
   "file_extension": ".py",
   "mimetype": "text/x-python",
   "name": "python",
   "nbconvert_exporter": "python",
   "pygments_lexer": "ipython3",
   "version": "3.8.2-final"
  }
 },
 "nbformat": 4,
 "nbformat_minor": 2
}